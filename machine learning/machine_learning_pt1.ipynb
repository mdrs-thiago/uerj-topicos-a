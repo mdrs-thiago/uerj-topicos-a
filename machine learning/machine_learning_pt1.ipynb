{
 "cells": [
  {
   "cell_type": "code",
   "execution_count": 2,
   "metadata": {},
   "outputs": [],
   "source": [
    "import numpy as np "
   ]
  },
  {
   "cell_type": "markdown",
   "metadata": {},
   "source": [
    "## K-Nearest Neighbors"
   ]
  },
  {
   "cell_type": "markdown",
   "metadata": {},
   "source": []
  },
  {
   "cell_type": "code",
   "execution_count": null,
   "metadata": {},
   "outputs": [],
   "source": [
    "class KNN():\n",
    "    def __init__(self, k=1):\n",
    "        self.k = k \n",
    "\n",
    "    def fit(self, X, y):\n",
    "\n",
    "        pass \n",
    "\n",
    "    def calculate_distance(self, x1):\n",
    "\n",
    "        pass \n",
    "\n",
    "    def predict(self, x1):\n",
    "\n",
    "        pass \n",
    "\n",
    "\n",
    "    "
   ]
  },
  {
   "cell_type": "code",
   "execution_count": null,
   "metadata": {},
   "outputs": [],
   "source": []
  },
  {
   "cell_type": "code",
   "execution_count": null,
   "metadata": {},
   "outputs": [],
   "source": []
  },
  {
   "cell_type": "markdown",
   "metadata": {},
   "source": [
    "## Naive Bayes"
   ]
  },
  {
   "cell_type": "code",
   "execution_count": null,
   "metadata": {},
   "outputs": [],
   "source": [
    "class NaiveBayes():\n",
    "    def __init__(self, var_smoothing=1e-9):\n",
    "        self.var_smoothing = var_smoothing \n",
    "\n",
    "    def fit(self, X, y):\n",
    "        #Calcular a probabilidade a priori \n",
    "\n",
    "\n",
    "        #Estimar os parâmetros para o likelihood (média e variância)\n",
    "        \n",
    "        \n",
    "        pass\n",
    "\n",
    "\n",
    "    def gaussian_density(self, x, idx):\n",
    "        mean = self.mean[idx]\n",
    "        var = self.var[idx]\n",
    "        \n",
    "        return np.exp((-1/2)*((x-mean)**2) / (2 * var))/np.sqrt(2 * np.pi * var)\n",
    "\n",
    "    def posterior(self, X):\n",
    "\n",
    "        pass\n",
    "\n",
    "    def predict(self, X):\n",
    "\n",
    "        pass \n",
    "\n",
    "\n",
    "        \n",
    "        \n",
    "\n"
   ]
  },
  {
   "cell_type": "code",
   "execution_count": null,
   "metadata": {},
   "outputs": [],
   "source": []
  }
 ],
 "metadata": {
  "kernelspec": {
   "display_name": "Python 3.10.4 64-bit",
   "language": "python",
   "name": "python3"
  },
  "language_info": {
   "codemirror_mode": {
    "name": "ipython",
    "version": 3
   },
   "file_extension": ".py",
   "mimetype": "text/x-python",
   "name": "python",
   "nbconvert_exporter": "python",
   "pygments_lexer": "ipython3",
   "version": "3.10.4"
  },
  "orig_nbformat": 4,
  "vscode": {
   "interpreter": {
    "hash": "d044c6e0ce06759120adefce77398d00e1228e64d92f3f185fbd024a7701b8e0"
   }
  }
 },
 "nbformat": 4,
 "nbformat_minor": 2
}
