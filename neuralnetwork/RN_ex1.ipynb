{
  "cells": [
    {
      "cell_type": "markdown",
      "metadata": {
        "id": "NnLFFG6e5sug"
      },
      "source": [
        "# Prática I - Redes Neurais usando Python"
      ]
    },
    {
      "cell_type": "code",
      "execution_count": null,
      "metadata": {},
      "outputs": [],
      "source": [
        "import torch\n",
        "import torch.nn as nn   #Definicao da rede neural\n",
        "from torch.utils.data import Dataset, DataLoader  #utilidade para dataset\n",
        "\n",
        "from tqdm.notebook import tqdm\n",
        "\n",
        "from sklearn.model_selection import cross_val_score, KFold, train_test_split\n",
        "\n",
        "from sklearn.preprocessing import LabelEncoder, MinMaxScaler\n",
        "from sklearn.metrics import classification_report, confusion_matrix\n",
        "from sklearn.datasets import load_iris"
      ]
    },
    {
      "cell_type": "markdown",
      "metadata": {},
      "source": [
        "## Dataset e pré-processamento"
      ]
    },
    {
      "cell_type": "markdown",
      "metadata": {},
      "source": [
        "Neste exemplo, iremos usar o dataset Iris. É um problema bastante conhecido na área de Ciência de Dados.\n",
        "A base de dados possui 150 registros e 4 atributos, com informações de comprimento e largura de suas pétalas e sépalas. No total, temos 50 amostras para cada uma das três classes: Iris-Setosa, Iris-Verginica e Iris-Versicolor\n",
        "\n",
        "<img src=\"https://www.embedded-robotics.com/wp-content/uploads/2022/01/Iris-Dataset-Classification.png\"/>\n",
        "\n",
        "Image source: https://www.embedded-robotics.com/iris-dataset-classification/"
      ]
    },
    {
      "cell_type": "code",
      "execution_count": null,
      "metadata": {},
      "outputs": [],
      "source": [
        "data = load_iris()\n",
        "X = data.data\n",
        "target = data.target"
      ]
    },
    {
      "cell_type": "markdown",
      "metadata": {},
      "source": [
        "Vejamos como são as entradas e saídas do modelo. O que precisa ser feito inicialmente?"
      ]
    },
    {
      "cell_type": "code",
      "execution_count": null,
      "metadata": {},
      "outputs": [],
      "source": []
    },
    {
      "cell_type": "code",
      "execution_count": null,
      "metadata": {},
      "outputs": [],
      "source": []
    },
    {
      "cell_type": "code",
      "execution_count": null,
      "metadata": {},
      "outputs": [],
      "source": [
        "encoder = LabelEncoder()\n",
        "y = encoder.fit_transform(target)"
      ]
    },
    {
      "cell_type": "markdown",
      "metadata": {},
      "source": [
        "Precisamos também dividir a base de dados entre treinamento, validação e teste.\n",
        "\n",
        "Usaremos a função `train_test_split` do scikit-learn"
      ]
    },
    {
      "cell_type": "code",
      "execution_count": null,
      "metadata": {},
      "outputs": [],
      "source": []
    },
    {
      "cell_type": "code",
      "execution_count": null,
      "metadata": {},
      "outputs": [],
      "source": []
    },
    {
      "cell_type": "markdown",
      "metadata": {},
      "source": [
        "E normalizar os dados. Podemos fazer esse processo manualmente ou usando alguma função já implementada (e.g. `MinMaxScaler` do scikit-learn)"
      ]
    },
    {
      "cell_type": "code",
      "execution_count": null,
      "metadata": {},
      "outputs": [],
      "source": []
    },
    {
      "cell_type": "code",
      "execution_count": null,
      "metadata": {},
      "outputs": [],
      "source": []
    },
    {
      "cell_type": "markdown",
      "metadata": {},
      "source": [
        "## Criando o dataset e definindo o DataLoader para o treinamento do modelo."
      ]
    },
    {
      "cell_type": "markdown",
      "metadata": {},
      "source": [
        "Para o treinamento de um modelo de Redes Neurais, precisamos definir uma estrutura de dataset para organização dos dados, amostragem de dados e outras técnicas possíveis, como data augmentation.\n",
        "Também precisamos definir um DataLoader. \n",
        "\n",
        "Lembrete: Dependendo do tipo de problema, devemos adequar o tipo das variáveis. No exemplo abaixo, estamos adequando as variáveis X_train, X_val e X_test do tipo double para float. Em alguns casos (especialmente em problemas com múltiplas classes), temos que adequar as saídas desejadas para o tipo long."
      ]
    },
    {
      "cell_type": "code",
      "execution_count": null,
      "metadata": {},
      "outputs": [],
      "source": [
        "#Função necessária para criar um custom dataset no Pytorch\n",
        "class CustomDataset(Dataset):\n",
        "    def __init__(self, X_data, y_data):\n",
        "        self.X_data = X_data\n",
        "        self.y_data = y_data\n",
        "        \n",
        "    def __getitem__(self, index):\n",
        "        return self.X_data[index], self.y_data[index]\n",
        "        \n",
        "    def __len__ (self):\n",
        "        return len(self.X_data)\n"
      ]
    },
    {
      "cell_type": "code",
      "execution_count": null,
      "metadata": {},
      "outputs": [],
      "source": []
    },
    {
      "cell_type": "code",
      "execution_count": null,
      "metadata": {},
      "outputs": [],
      "source": []
    },
    {
      "cell_type": "code",
      "execution_count": null,
      "metadata": {},
      "outputs": [],
      "source": []
    },
    {
      "cell_type": "markdown",
      "metadata": {},
      "source": [
        "## Criando um modelo de Redes Neurais"
      ]
    },
    {
      "cell_type": "markdown",
      "metadata": {},
      "source": [
        "Vamos criar um objeto que irá representar o nosso modelo de Redes Neurais, que irá herdar características de `torch.nn.Module`. No `__init__` iremos definir sua arquitetura e quaisquer outras características que sejam importantes.\n",
        "\n",
        "No forward iremos definir como ocorrerá a propagação."
      ]
    },
    {
      "cell_type": "code",
      "execution_count": null,
      "metadata": {},
      "outputs": [],
      "source": [
        "#Criar usando classe. \n",
        "\n",
        "class NeuralNetwork(torch.nn.Module):\n",
        "\n",
        "  def __init__(self):\n",
        "    pass\n",
        "    \n",
        "  def forward(self,x):\n",
        "    pass"
      ]
    },
    {
      "cell_type": "code",
      "execution_count": null,
      "metadata": {},
      "outputs": [],
      "source": []
    },
    {
      "cell_type": "code",
      "execution_count": null,
      "metadata": {},
      "outputs": [],
      "source": []
    },
    {
      "cell_type": "markdown",
      "metadata": {},
      "source": [
        "## Treinamento"
      ]
    },
    {
      "cell_type": "markdown",
      "metadata": {},
      "source": [
        "Neste caso, definimos um loop para o treinamento por *n_epochs* épocas. Neste caso, não estamos usando o \"offline learning\", ensinado em sala de aula, mas sim um aprendizado em lote (batch)."
      ]
    },
    {
      "cell_type": "code",
      "execution_count": null,
      "metadata": {},
      "outputs": [],
      "source": []
    },
    {
      "cell_type": "code",
      "execution_count": null,
      "metadata": {},
      "outputs": [],
      "source": []
    },
    {
      "cell_type": "markdown",
      "metadata": {},
      "source": [
        "## Avaliação do modelo"
      ]
    },
    {
      "cell_type": "markdown",
      "metadata": {},
      "source": [
        "Vamos agora avaliar o modelo treinado. Para isso, mudamos o modelo para o modo eval. Além disso, usamos o `torch.no_grad()`, para que a execução do trecho de código tenha o autograd engine desativado. \n",
        "\n",
        "Lembrete: Caso queira continuar o treinamento do modelo, é necessário usar o comando `model.train()`"
      ]
    },
    {
      "cell_type": "code",
      "execution_count": null,
      "metadata": {},
      "outputs": [],
      "source": [
        "model.eval()\n",
        "with torch.no_grad():\n",
        "  X_test_torch = torch.from_numpy(X_test).float()\n",
        "  y_hat = model(X_test_torch)\n",
        "  y_ = torch.argmax(y_hat.data,dim = 1).numpy()"
      ]
    },
    {
      "cell_type": "code",
      "execution_count": null,
      "metadata": {},
      "outputs": [],
      "source": []
    },
    {
      "cell_type": "markdown",
      "metadata": {},
      "source": [
        "## Métricas de avaliação para classificação"
      ]
    },
    {
      "cell_type": "code",
      "execution_count": null,
      "metadata": {},
      "outputs": [],
      "source": [
        "print(classification_report(y_test, y_))"
      ]
    },
    {
      "cell_type": "code",
      "execution_count": null,
      "metadata": {},
      "outputs": [],
      "source": [
        "cm = confusion_matrix(y_test, y_)"
      ]
    },
    {
      "cell_type": "code",
      "execution_count": null,
      "metadata": {},
      "outputs": [],
      "source": [
        "def plot_confusion_matrix(cm,\n",
        "                          target_names,\n",
        "                          title='Confusion matrix',\n",
        "                          cmap=None,\n",
        "                          normalize=False):\n",
        "    \"\"\"\n",
        "    given a sklearn confusion matrix (cm), make a nice plot\n",
        "\n",
        "    Arguments\n",
        "    ---------\n",
        "    cm:           confusion matrix from sklearn.metrics.confusion_matrix\n",
        "\n",
        "    target_names: given classification classes such as [0, 1, 2]\n",
        "                  the class names, for example: ['high', 'medium', 'low']\n",
        "\n",
        "    title:        the text to display at the top of the matrix\n",
        "\n",
        "    cmap:         the gradient of the values displayed from matplotlib.pyplot.cm\n",
        "                  see http://matplotlib.org/examples/color/colormaps_reference.html\n",
        "                  plt.get_cmap('jet') or plt.cm.Blues\n",
        "\n",
        "    normalize:    If False, plot the raw numbers\n",
        "                  If True, plot the proportions\n",
        "\n",
        "    Usage\n",
        "    -----\n",
        "    plot_confusion_matrix(cm           = cm,                  # confusion matrix created by\n",
        "                                                              # sklearn.metrics.confusion_matrix\n",
        "                          normalize    = True,                # show proportions\n",
        "                          target_names = y_labels_vals,       # list of names of the classes\n",
        "                          title        = best_estimator_name) # title of graph\n",
        "\n",
        "    Citiation\n",
        "    ---------\n",
        "    http://scikit-learn.org/stable/auto_examples/model_selection/plot_confusion_matrix.html\n",
        "\n",
        "    \"\"\"\n",
        "    import matplotlib.pyplot as plt\n",
        "    import numpy as np\n",
        "    import itertools\n",
        "\n",
        "    accuracy = np.trace(cm) / np.sum(cm).astype('float')\n",
        "    misclass = 1 - accuracy\n",
        "\n",
        "    if cmap is None:\n",
        "        cmap = plt.get_cmap('Blues')\n",
        "\n",
        "    plt.figure(figsize=(8, 6))\n",
        "    plt.imshow(cm, interpolation='nearest', cmap=cmap)\n",
        "    plt.title(title)\n",
        "    plt.colorbar()\n",
        "\n",
        "    if target_names is not None:\n",
        "        tick_marks = np.arange(len(target_names))\n",
        "        plt.xticks(tick_marks, target_names, rotation=45)\n",
        "        plt.yticks(tick_marks, target_names)\n",
        "\n",
        "    if normalize:\n",
        "        cm = cm.astype('float') / cm.sum(axis=1)[:, np.newaxis]\n",
        "\n",
        "\n",
        "    thresh = cm.max() / 1.5 if normalize else cm.max() / 2\n",
        "    for i, j in itertools.product(range(cm.shape[0]), range(cm.shape[1])):\n",
        "        if normalize:\n",
        "            plt.text(j, i, \"{:0.4f}\".format(cm[i, j]),\n",
        "                     horizontalalignment=\"center\",\n",
        "                     color=\"white\" if cm[i, j] > thresh else \"black\")\n",
        "        else:\n",
        "            plt.text(j, i, \"{:,}\".format(cm[i, j]),\n",
        "                     horizontalalignment=\"center\",\n",
        "                     color=\"white\" if cm[i, j] > thresh else \"black\")\n",
        "\n",
        "\n",
        "    plt.tight_layout()\n",
        "    plt.ylabel('True label')\n",
        "    plt.xlabel('Predicted label\\naccuracy={:0.4f}; misclass={:0.4f}'.format(accuracy, misclass))\n",
        "    plt.show()"
      ]
    },
    {
      "cell_type": "code",
      "execution_count": null,
      "metadata": {},
      "outputs": [],
      "source": [
        "plot_confusion_matrix(cm, data.target_names)"
      ]
    },
    {
      "cell_type": "code",
      "execution_count": null,
      "metadata": {},
      "outputs": [],
      "source": []
    },
    {
      "cell_type": "code",
      "execution_count": null,
      "metadata": {},
      "outputs": [],
      "source": []
    },
    {
      "cell_type": "markdown",
      "metadata": {},
      "source": [
        "# Material adicional"
      ]
    },
    {
      "cell_type": "markdown",
      "metadata": {
        "id": "Un2nHgZG5suj"
      },
      "source": [
        "## Parte 1 - Construindo uma rede do zero\n",
        "\n",
        "Redes Neurais constituem uma das técnicas mais populares de Inteligência Computacional. Por mais que esta técnica tenha um potencial para mapeamento de diversos problemas, o conceito básico sobre o seu funcionamento não é impossível de ser entendido.\n",
        "\n",
        "Nesta primeira parte prática, iremos construir uma Rede Neural do zero. Para uma forma didática, a primeira etapa vai abordar os principais aspectos de Redes Neurais. \n",
        "\n",
        "Resolva primeiro a parte teórica do item para resolver em seguida a parte prática.\n"
      ]
    },
    {
      "cell_type": "markdown",
      "metadata": {
        "id": "IFEJ7kRv5suk"
      },
      "source": [
        "O esqueleto do modelo de Rede Neural já está pronto. Para uma melhor comodidade, o script já possui os métodos essenciais para o funcionamento, mas os códigos ainda não estão implementados. O objetivo deste trabalho é desenvolver o conhecimento teórico e prático sobre redes neurais, entendendo mais a fundo as suas operações."
      ]
    },
    {
      "cell_type": "code",
      "execution_count": null,
      "metadata": {
        "id": "ZAxlSona5sul"
      },
      "outputs": [],
      "source": [
        "import numpy as np\n",
        "import matplotlib.pyplot as plt"
      ]
    },
    {
      "cell_type": "code",
      "execution_count": null,
      "metadata": {
        "id": "q6Zm0gi05sum"
      },
      "outputs": [],
      "source": [
        "class NeuralNetwork():\n",
        "    def __init__(self,nin,nout,hidden_neurons=[2],hidden_layers=1,activation=['relu']):\n",
        "        '''\n",
        "        Classe para a implementação do algoritmo de Redes Neurais para a atividade prática da disciplina Inteligência Computacional Aplicada - PUC-Rio\n",
        "        \n",
        "        Variáveis de entrada:\n",
        "        nin - Quantidade de entradas da Rede (int)\n",
        "        nout - Quantidade de neurônios na saída da Rede (int)\n",
        "        hidden_neurons - Quantidade de neurônios na camada escondida. Deve ser uma lista de inteiros positivos.\n",
        "        hidden_layers - Quantidade de camadas escondidas. (int)\n",
        "        activation - Função de ativação para cada uma das camadas. Deve ser uma lista de strings.\n",
        "        \n",
        "        '''\n",
        "        \n",
        "        #Entrada do modelo\n",
        "        self.input = nin \n",
        "        #Saída do modelo\n",
        "        self.output = nout \n",
        "        #Lista de neurônios. Começa a contagem da entrada do modelo.\n",
        "        self.hn = [nin] + hidden_neurons \n",
        "        \n",
        "        self.hl = hidden_layers\n",
        "\n",
        "        #Dicionário com todas as possíveis funções de ativação. Caso construa alguma outra, adicione a esta lista.\n",
        "        self.possible_activations = {'relu':self.relu, 'tanh':np.tanh, 'sigmoid':self.sigmoid}\n",
        "\n",
        "        #Inicialização dos pesos ao criar o novo objeto\n",
        "        self.initialize_weights(activation)\n",
        "\n",
        "\n",
        "\n",
        "\n",
        "    def initialize_weights(self,activation):\n",
        "\n",
        "        #Matriz de pesos \n",
        "        self.weights = dict()\n",
        "        #Vetor de bias\n",
        "        self.bias = dict()\n",
        "\n",
        "        #Erros\n",
        "        self.weights_error = dict()\n",
        "        self.bias_error = dict()\n",
        "\n",
        "        #Ativacao do neuronio\n",
        "        self.neuron_out = dict()\n",
        "        \n",
        "        \n",
        "        self.neuron_net = dict()\n",
        "\n",
        "        self.activation = dict()\n",
        "\n",
        "\n",
        "\n",
        "\n",
        "        for i in range(self.hl):\n",
        "            name = f'hidden{i}'\n",
        "\n",
        "            self.weights[name] = np.random.rand(self.hn[i+1], self.hn[i])*2 - 1.0\n",
        "            self.bias[name] = np.zeros((self.hn[i+1],1))\n",
        "\n",
        "            self.weights_error[name] = np.zeros((self.hn[i+1], self.hn[i]))\n",
        "            self.bias_error[name] = np.zeros((self.hn[i+1],1))\n",
        "\n",
        "            self.activation[name] = self.possible_activations[activation[i]]\n",
        "\n",
        "            self.neuron_out[name] = np.zeros((self.hn[i+1],1))\n",
        "            self.neuron_net[name] = np.zeros((self.hn[i], 1))\n",
        "\n",
        "\n",
        "        self.weights['output'] = np.random.rand(self.output, self.hn[-1])*2 - 1.0\n",
        "        self.bias['output'] = np.zeros((self.output, 1))\n",
        "\n",
        "        self.weights_error['output'] = np.zeros((self.output, self.hn[-1]))\n",
        "        self.bias_error['output'] = np.zeros((self.output,1))\n",
        "\n",
        "        self.activation['output'] = self.possible_activations[activation[-1]]\n",
        "\n",
        "        self.neuron_out['output'] = np.zeros((self.output,1))\n",
        "\n",
        "        self.neuron_net['output'] = np.zeros((self.hn[-1],1))\n",
        "\n",
        "    def insert_layers(self,weights=[],bias=[]):\n",
        "        '''\n",
        "        Função para inserção manual dos pesos. \n",
        "        '''\n",
        "        self.weights = weights\n",
        "        self.bias = bias \n",
        "\n",
        "    def neuron_process(self,x=[],weights=[],bias=[]):\n",
        "        '''\n",
        "        Função para regra de propagação\n",
        "        #NOTE\n",
        "        Etapa 1\n",
        "        '''\n",
        "        return None\n",
        "\n",
        "\n",
        "    def forward(self,x):\n",
        "        '''\n",
        "        Função para etapa feedforward\n",
        "        #NOTE\n",
        "        Etapa 3\n",
        "        '''\n",
        "        input_values = x\n",
        "        for layer in self.weights:\n",
        "            pass\n",
        "            \n",
        "        return None\n",
        "\n",
        "\n",
        "    def backward(self,lr,y):\n",
        "        '''\n",
        "        Função para a etapa feedback\n",
        "        '''\n",
        "        for layer in reversed(self.weights):\n",
        "\n",
        "            if layer == 'output':\n",
        "                dZ2 = y - self.neuron_out[layer]\n",
        "                dW2 = np.dot(dZ2, self.neuron_net[layer].T)\n",
        "                db2 = np.sum(dZ2, axis=1, keepdims=True)\n",
        "                self.weights_error[layer] = lr * dW2 \n",
        "                self.bias_error[layer] = lr * db2 \n",
        "                prev_weights = self.weights[layer]\n",
        "            else:\n",
        "                dZ1 = np.multiply(np.dot(prev_weights.T, dZ2), 1-np.power(self.neuron_out[layer], 2))\n",
        "                dW1 = np.dot(dZ1, self.neuron_net[layer].T)\n",
        "                db1 = np.sum(dZ1, axis=1, keepdims=True)\n",
        "                self.weights_error[layer] = lr * dW1 \n",
        "                self.bias_error[layer] = lr * db1 \n",
        "\n",
        "                prev_weights = self.weights[layer]\n",
        "                dZ2 = np.copy(dZ1)\n",
        "            \n",
        "\n",
        "    def update_weights(self):\n",
        "        '''\n",
        "        Função para atualização dos pesos\n",
        "        #NOTE\n",
        "        Etapa 5\n",
        "        '''\n",
        "        for layer in self.weights:\n",
        "\n",
        "            assert(self.weights[layer].shape == self.weights_error[layer].shape), f\"Dimension mismatch: {self.weights[layer].shape} and {self.weights_error[layer].shape}\"\n",
        "            self.weights[layer] = self.weights[layer] + self.weights_error[layer]\n",
        "\n",
        "            assert(self.bias[layer].shape == self.bias_error[layer].shape), f\"Dimension mismatch: {self.bias[layer].shape} and {self.bias_error[layer].shape}\"\n",
        "            self.bias[layer] = self.bias[layer] + self.bias_error[layer]\n",
        "            self.weights_error[layer] = np.zeros(self.weights_error[layer].shape)\n",
        "            self.bias_error[layer] = np.zeros(self.bias_error[layer].shape)\n",
        "\n",
        "    def train(self,x,y,epochs=100,lr=0.5):\n",
        "        '''\n",
        "        Função para treinamento da rede\n",
        "        # NOTE\n",
        "        Etapa 6\n",
        "        '''\n",
        "        for epoch in range(epochs):\n",
        "            pass\n",
        "\n",
        "\n",
        "    @staticmethod\n",
        "    def sigmoid(x):\n",
        "        '''\n",
        "        Definição da função sigmoide. Retorna o valor 1/(1 + e^(-x))\n",
        "        #NOTE\n",
        "        Etapa 2\n",
        "        '''\n",
        "        \n",
        "        return None\n",
        "\n",
        "    \n",
        "    def sigmoid_derivative(self,value):\n",
        "        '''\n",
        "        ???\n",
        "        '''\n",
        "        return self.sigmoid(value)*(1-self.sigmoid(value))\n",
        "\n",
        "    @staticmethod\n",
        "    def relu(x):\n",
        "        return np.maximum(np.zeros(x.shape),x)\n",
        "\n",
        "    @staticmethod \n",
        "    def relu_derivative(x):\n",
        "        return np.ones(x.shape)"
      ]
    },
    {
      "cell_type": "markdown",
      "metadata": {
        "id": "PUfLSc545suq"
      },
      "source": [
        "### Questão 1\n",
        "O neurônio é a unidade básica de uma Rede Neural. Na primeira etapa, desenvolva dentro da função **neuron_process** para o cálculo de processamento do neurônio. Não esqueça que a função recebe como argumento a matriz de pesos **weights**, a entrada **x** e o bias **bias**.\n",
        "\n",
        "Ao terminar de implementar a função, valide seu código com os testes abaixo. **Não** prossiga para o próximo item enquanto houver erro no resultado."
      ]
    },
    {
      "cell_type": "code",
      "execution_count": null,
      "metadata": {
        "id": "NX3FhUYJ5suq"
      },
      "outputs": [],
      "source": [
        "nn_test = NeuralNetwork(2,1,hidden_layers=1,hidden_neurons=[4],activation=['tanh','sigmoid'])"
      ]
    },
    {
      "cell_type": "code",
      "execution_count": null,
      "metadata": {
        "id": "TVaE4OlV5sur",
        "outputId": "61e9cf40-bbd1-4b0b-98c0-bcb6d78e46f1"
      },
      "outputs": [
        {
          "data": {
            "text/plain": [
              "array([[1.43813902],\n",
              "       [1.67767442]])"
            ]
          },
          "execution_count": 4,
          "metadata": {},
          "output_type": "execute_result"
        }
      ],
      "source": [
        "x = np.array([[0],[0]])\n",
        "weights = np.array([[ 3.14708825, -3.02515284],[-3.48236268,  3.60001384]])\n",
        "bias = np.array([[1.43813902],[1.67767442]])\n",
        "\n",
        "nn_test.neuron_process(x=x,weights=weights,bias=bias)"
      ]
    },
    {
      "cell_type": "markdown",
      "metadata": {
        "id": "EIm47W9D5sus"
      },
      "source": [
        "### Questão 2\n",
        "Com a código de processamento do neurônio já criado, é preciso desenvolver um método para a função de ativação não-linear. \n",
        "Desenvolva a equação que representa a ativação sigmoide e sua respectiva derivada. Para validar o funcionamento, além de realizar os testes padrões estipulados abaixo, verifique graficamente se as funções estão de acordo com o esperado."
      ]
    },
    {
      "cell_type": "code",
      "execution_count": null,
      "metadata": {
        "id": "BL2GrXHT5sus"
      },
      "outputs": [],
      "source": []
    },
    {
      "cell_type": "code",
      "execution_count": null,
      "metadata": {
        "id": "wuq9S2nj5sus"
      },
      "outputs": [],
      "source": [
        "t = np.linspace(-10,10,100)"
      ]
    },
    {
      "cell_type": "code",
      "execution_count": null,
      "metadata": {
        "id": "J1ANRlFL5sut",
        "outputId": "fd096c2a-df2b-4039-edbe-5c87169fa2cf"
      },
      "outputs": [
        {
          "data": {
            "text/plain": [
              "Text(0, 0.5, 'sigm(x)')"
            ]
          },
          "execution_count": 6,
          "metadata": {},
          "output_type": "execute_result"
        },
        {
          "data": {
            "image/png": "[encoded data removed]",
            "text/plain": [
              "<Figure size 432x288 with 1 Axes>"
            ]
          },
          "metadata": {
            "needs_background": "light"
          },
          "output_type": "display_data"
        }
      ],
      "source": [
        "plt.plot(t,nn_test.sigmoid(t),linewidth=2,color='g')\n",
        "plt.title('Função sigmoide')\n",
        "plt.xlabel('x')\n",
        "plt.ylabel('sigm(x)')"
      ]
    },
    {
      "cell_type": "markdown",
      "metadata": {
        "id": "0oNsrgxg5sut"
      },
      "source": [
        "### Etapa III - Feedforward"
      ]
    },
    {
      "cell_type": "code",
      "execution_count": null,
      "metadata": {
        "id": "5nGNMG6n5sut"
      },
      "outputs": [],
      "source": []
    },
    {
      "cell_type": "markdown",
      "metadata": {
        "id": "grlTbW5b5suu"
      },
      "source": [
        "### Etapa IV - Retropropagação dos erros"
      ]
    },
    {
      "cell_type": "code",
      "execution_count": null,
      "metadata": {
        "id": "z0P65uwz5suu"
      },
      "outputs": [],
      "source": []
    },
    {
      "cell_type": "markdown",
      "metadata": {
        "id": "lP7XingR5suu"
      },
      "source": [
        "### Etapa V - Atualização dos pesos"
      ]
    },
    {
      "cell_type": "code",
      "execution_count": null,
      "metadata": {
        "id": "ePmWAvtg5suu"
      },
      "outputs": [],
      "source": []
    },
    {
      "cell_type": "markdown",
      "metadata": {
        "id": "RihDEX6I5suu"
      },
      "source": [
        "### Etapa VI - Treinamento do modelo"
      ]
    },
    {
      "cell_type": "code",
      "execution_count": null,
      "metadata": {
        "id": "M5VVuALN5suu"
      },
      "outputs": [],
      "source": [
        "X = np.array([[0, 0, 1, 1], [0, 1, 0, 1]])\n",
        "Y = np.array([[0, 1, 1, 0]])\n",
        "\n",
        "#X = np.array([[0,0],[0,1],[1,0],[1,1]])\n",
        "#Y = np.array([[0],[1],[1],[0]])\n",
        "\n",
        "nn_test.train(X,Y,epochs=1500,lr=0.2)"
      ]
    },
    {
      "cell_type": "markdown",
      "metadata": {
        "id": "r4ZXFxAF5suv"
      },
      "source": [
        "### Etapa VII - Generalização"
      ]
    },
    {
      "cell_type": "code",
      "execution_count": null,
      "metadata": {
        "id": "sNjND9Ux5suv",
        "outputId": "7573874d-77d4-44ed-f1a8-990f5a493f24"
      },
      "outputs": [
        {
          "name": "stdout",
          "output_type": "stream",
          "text": [
            "[[0.00030853]]\n",
            "[[0.99744658]]\n",
            "[[0.99772362]]\n",
            "[[0.0030284]]\n"
          ]
        }
      ],
      "source": [
        "X_test = np.array([[0],[0]])\n",
        "print(nn_test.forward(X_test))\n",
        "\n",
        "X_test = np.array([[0],[1]])\n",
        "print(nn_test.forward(X_test))\n",
        "\n",
        "X_test = np.array([[1],[0]])\n",
        "print(nn_test.forward(X_test))\n",
        "\n",
        "X_test = np.array([[1],[1]])\n",
        "print(nn_test.forward(X_test))"
      ]
    },
    {
      "cell_type": "code",
      "execution_count": null,
      "metadata": {
        "id": "e_a1fGH85suv",
        "outputId": "51324d15-f096-4712-fbb0-fcf55f4ddf1f"
      },
      "outputs": [
        {
          "data": {
            "text/plain": [
              "{'hidden0': array([[-0.93541997],\n",
              "        [-0.30522097],\n",
              "        [ 1.12782389],\n",
              "        [-0.32628317]]),\n",
              " 'output': array([[2.37573173]])}"
            ]
          },
          "execution_count": 9,
          "metadata": {},
          "output_type": "execute_result"
        }
      ],
      "source": [
        "nn_test.bias"
      ]
    },
    {
      "cell_type": "code",
      "execution_count": null,
      "metadata": {
        "id": "awuPHspA5suv"
      },
      "outputs": [],
      "source": [
        "manual_weights = dict()\n",
        "manual_bias = dict()\n",
        "manual_weights['hidden0'] = np.array([[ 3.14708825, -3.02515284],\n",
        "        [-3.48236268,  3.60001384]])\n",
        "manual_weights['output'] = np.array([[-5.07678577, -5.01607987]])\n",
        "\n",
        "manual_bias['hidden0'] = np.array([[1.43813902],\n",
        "        [1.67767442]])\n",
        "manual_bias['output'] = np.array([[4.49745273]])\n",
        "\n",
        "nn_test.insert_layers(weights=manual_weights,bias=manual_bias)"
      ]
    },
    {
      "cell_type": "code",
      "execution_count": null,
      "metadata": {
        "id": "8RdQccp75suv",
        "outputId": "c16bdaca-b087-4a9f-a217-bfb6d3af5ac1"
      },
      "outputs": [
        {
          "data": {
            "text/plain": [
              "{'hidden0': array([[ 3.14708825, -3.02515284],\n",
              "        [-3.48236268,  3.60001384]]),\n",
              " 'output': array([[-5.07678577, -5.01607987]])}"
            ]
          },
          "execution_count": 11,
          "metadata": {},
          "output_type": "execute_result"
        }
      ],
      "source": [
        "nn_test.weights"
      ]
    },
    {
      "cell_type": "code",
      "execution_count": null,
      "metadata": {
        "id": "7LWm3rcY5suw",
        "outputId": "8e924936-2a50-4637-cebe-e4b55e8f5573"
      },
      "outputs": [
        {
          "data": {
            "text/plain": [
              "{'hidden0': array([[-0.97217686],\n",
              "        [ 0.99980005],\n",
              "        [ 0.97393905],\n",
              "        [ 0.53319081]]),\n",
              " 'output': array([[0.0030284]])}"
            ]
          },
          "execution_count": 12,
          "metadata": {},
          "output_type": "execute_result"
        }
      ],
      "source": [
        "nn_test.neuron_out"
      ]
    },
    {
      "cell_type": "code",
      "execution_count": null,
      "metadata": {
        "id": "JDjKcTtO5suw"
      },
      "outputs": [],
      "source": []
    },
    {
      "cell_type": "markdown",
      "metadata": {
        "id": "BZjqxmJh5suw"
      },
      "source": [
        "## Parte 2 - Framework para Redes Neurais\n"
      ]
    },
    {
      "cell_type": "code",
      "execution_count": 33,
      "metadata": {
        "id": "c8K8SUhN56bB"
      },
      "outputs": [],
      "source": [
        "import torch \n",
        "import torch.nn as nn\n",
        "from torch.utils.data import Dataset, DataLoader \n",
        "\n",
        "from tqdm.notebook import tqdm\n",
        "\n",
        "from sklearn.model_selection import cross_val_score, KFold, train_test_split\n",
        "from sklearn.preprocessing import LabelEncoder, MinMaxScaler\n",
        "from sklearn.metrics import classification_report, confusion_matrix\n",
        "\n",
        "from sklearn.datasets import load_iris"
      ]
    },
    {
      "cell_type": "code",
      "execution_count": 34,
      "metadata": {
        "id": "TPr7WcxP56C8"
      },
      "outputs": [],
      "source": [
        "#Função necessária para criar um custom dataset no Pytorch\n",
        "\n",
        "class CustomDataset(Dataset):\n",
        "    \n",
        "    def __init__(self, X_data, y_data):\n",
        "        self.X_data = X_data\n",
        "        self.y_data = y_data\n",
        "        \n",
        "    def __getitem__(self, index):\n",
        "        return self.X_data[index], self.y_data[index]\n",
        "        \n",
        "    def __len__ (self):\n",
        "        return len(self.X_data)\n"
      ]
    },
    {
      "cell_type": "code",
      "execution_count": 34,
      "metadata": {
        "id": "b9b6sYXp56Ad"
      },
      "outputs": [],
      "source": []
    },
    {
      "cell_type": "code",
      "execution_count": 34,
      "metadata": {
        "id": "P8yNXGSl559W"
      },
      "outputs": [],
      "source": []
    },
    {
      "cell_type": "code",
      "execution_count": 35,
      "metadata": {
        "id": "TxsmymsR8Jcb"
      },
      "outputs": [],
      "source": [
        "data = load_iris()"
      ]
    },
    {
      "cell_type": "code",
      "execution_count": 36,
      "metadata": {
        "id": "yd_HA1QL8JVW"
      },
      "outputs": [],
      "source": [
        "X = data.data\n",
        "target = data.target"
      ]
    },
    {
      "cell_type": "code",
      "execution_count": 36,
      "metadata": {
        "id": "U831MSe__cqG"
      },
      "outputs": [],
      "source": []
    },
    {
      "cell_type": "code",
      "execution_count": 37,
      "metadata": {
        "id": "_Oxzac5g_dBV"
      },
      "outputs": [],
      "source": [
        "encoder = LabelEncoder()\n",
        "y = encoder.fit_transform(target)"
      ]
    },
    {
      "cell_type": "code",
      "execution_count": 38,
      "metadata": {
        "id": "CPZAs0VU8JST"
      },
      "outputs": [],
      "source": [
        "X_train, X_test, y_train, y_test = train_test_split(X,y,test_size=0.2,random_state=42)\n",
        "X_train, X_val, y_train, y_val = train_test_split(X_train,y_train,test_size=0.2,random_state=42)"
      ]
    },
    {
      "cell_type": "code",
      "execution_count": 39,
      "metadata": {
        "id": "fox8ajPwR8i-"
      },
      "outputs": [],
      "source": [
        "scaler = MinMaxScaler()\n",
        "X_train = scaler.fit_transform(X_train)\n",
        "X_val = scaler.transform(X_val)\n",
        "X_test = scaler.transform(X_test)"
      ]
    },
    {
      "cell_type": "code",
      "execution_count": 40,
      "metadata": {
        "id": "BDrVIczu82OC"
      },
      "outputs": [],
      "source": [
        "train_dataset = CustomDataset(torch.from_numpy(X_train), torch.from_numpy(y_train))\n",
        "val_dataset = CustomDataset(torch.from_numpy(X_val), torch.from_numpy(y_val))\n",
        "test_dataset = CustomDataset(torch.from_numpy(X_test), torch.from_numpy(y_test))"
      ]
    },
    {
      "cell_type": "code",
      "execution_count": 41,
      "metadata": {
        "id": "uuZxUNKl82Fq"
      },
      "outputs": [],
      "source": [
        "#@title Definindo dataloader\n",
        "batch_size = 16 #@param {type:\"integer\"}\n",
        "\n",
        "#Gerando um dataloader\n",
        "train_loader = DataLoader(dataset=train_dataset,batch_size=batch_size)\n",
        "val_loader = DataLoader(dataset=val_dataset, batch_size=1)\n",
        "test_loader = DataLoader(dataset=test_dataset, batch_size=1)"
      ]
    },
    {
      "cell_type": "markdown",
      "metadata": {
        "id": "wGcMQpul6bOV"
      },
      "source": [
        "Temos algumas formas para criar um modelo de Redes Neurais em Pytorch."
      ]
    },
    {
      "cell_type": "code",
      "execution_count": 41,
      "metadata": {
        "id": "3Ft_V55Y556e"
      },
      "outputs": [],
      "source": []
    },
    {
      "cell_type": "code",
      "execution_count": 41,
      "metadata": {
        "id": "sXucmYFY553k"
      },
      "outputs": [],
      "source": []
    },
    {
      "cell_type": "code",
      "execution_count": 41,
      "metadata": {
        "id": "bDrfKZF6550c"
      },
      "outputs": [],
      "source": []
    },
    {
      "cell_type": "code",
      "execution_count": 42,
      "metadata": {
        "id": "sU2rn4Ak55xl"
      },
      "outputs": [],
      "source": [
        "#@title Criando uma Rede Neural usando classe.\n",
        "#Criar usando classe. \n",
        "\n",
        "class NeuralNetwork(torch.nn.Module):\n",
        "\n",
        "  def __init__(self,hidden_neurons = 4, hidden_activation = 'relu', output_activation='softmax', lr = 0.05, n_input = 1, n_output = 1):\n",
        "    # create model\n",
        "    super(NeuralNetwork, self).__init__()\n",
        "\n",
        "    self.activations = {'relu': nn.ReLU(), 'sigmoid':nn.Sigmoid(), 'softmax':nn.Softmax()}\n",
        "\n",
        "    self.fc1 = nn.Linear(n_input, hidden_neurons)\n",
        "    self.ha = self.activations[hidden_activation]\n",
        "    self.fc2 = nn.Linear(hidden_neurons, n_output)\n",
        "    #self.out = self.activations[output_activation]\n",
        "\n",
        "  def forward(self,x):\n",
        "    h = self.fc1(x)\n",
        "    h1 = self.ha(h) \n",
        "    y = self.fc2(h1) \n",
        "    #y = self.out(h2)\n",
        "    return y"
      ]
    },
    {
      "cell_type": "code",
      "execution_count": 42,
      "metadata": {
        "id": "brQJ1YK755uU"
      },
      "outputs": [],
      "source": []
    },
    {
      "cell_type": "code",
      "execution_count": 43,
      "metadata": {
        "id": "T7otCCF555rU"
      },
      "outputs": [],
      "source": [
        "model = NeuralNetwork(hidden_neurons=5, n_input=4, n_output=3)"
      ]
    },
    {
      "cell_type": "code",
      "execution_count": 43,
      "metadata": {
        "id": "0fbqqYdJ55oU"
      },
      "outputs": [],
      "source": []
    },
    {
      "cell_type": "code",
      "execution_count": 44,
      "metadata": {
        "cellView": "form",
        "id": "nGjkZReJ55ll"
      },
      "outputs": [],
      "source": [
        "#@title Definindo parâmetros do problema.\n",
        "lr = 10e-4 #@param {type:\"number\"}\n",
        "device = 'cuda' #@param {type:\"string\"}"
      ]
    },
    {
      "cell_type": "code",
      "execution_count": 45,
      "metadata": {
        "id": "YUi6Znt555id"
      },
      "outputs": [],
      "source": [
        "#@title Definindo a função de perda e o método de otimização para atualização dos pesos.\n",
        "\n",
        "\n",
        "criterion = nn.CrossEntropyLoss()\n",
        "optimizer = torch.optim.Adam(model.parameters(), lr=lr)\n",
        "\n",
        "history = {'acc_train' : [], 'loss_train': [], 'acc_val': [], 'loss_val': []}"
      ]
    },
    {
      "cell_type": "code",
      "execution_count": 45,
      "metadata": {
        "id": "CbMSGHJNC0s2"
      },
      "outputs": [],
      "source": []
    },
    {
      "cell_type": "code",
      "execution_count": 50,
      "metadata": {
        "colab": {
          "base_uri": "https://localhost:8080/"
        },
        "id": "45wT3N5VC0FJ",
        "outputId": "9d851a1c-8f51-40a8-b387-3ea96606d0cf"
      },
      "outputs": [
        {
          "name": "stdout",
          "output_type": "stream",
          "text": [
            "epoch 0, loss 0.6547568440437317\n",
            "epoch 1, loss 0.651190996170044\n",
            "epoch 2, loss 0.6476939916610718\n",
            "epoch 3, loss 0.6442641615867615\n",
            "epoch 4, loss 0.640899658203125\n",
            "epoch 5, loss 0.6375982165336609\n",
            "epoch 6, loss 0.6344050168991089\n",
            "epoch 7, loss 0.6313188076019287\n",
            "epoch 8, loss 0.6283477544784546\n",
            "epoch 9, loss 0.6254609823226929\n",
            "epoch 10, loss 0.6226517558097839\n",
            "epoch 11, loss 0.6198490858078003\n",
            "epoch 12, loss 0.6170814037322998\n",
            "epoch 13, loss 0.6143965721130371\n",
            "epoch 14, loss 0.6117745041847229\n",
            "epoch 15, loss 0.6092046499252319\n",
            "epoch 16, loss 0.6066827774047852\n",
            "epoch 17, loss 0.6042057275772095\n",
            "epoch 18, loss 0.6017715334892273\n",
            "epoch 19, loss 0.5993779897689819\n",
            "epoch 20, loss 0.5970234870910645\n",
            "epoch 21, loss 0.5947062969207764\n",
            "epoch 22, loss 0.5924239158630371\n",
            "epoch 23, loss 0.5901739597320557\n",
            "epoch 24, loss 0.5879561305046082\n",
            "epoch 25, loss 0.5857672095298767\n",
            "epoch 26, loss 0.5836063623428345\n",
            "epoch 27, loss 0.5814740657806396\n",
            "epoch 28, loss 0.5793695449829102\n",
            "epoch 29, loss 0.5772915482521057\n",
            "epoch 30, loss 0.5752384662628174\n",
            "epoch 31, loss 0.5732089281082153\n",
            "epoch 32, loss 0.5712007880210876\n",
            "epoch 33, loss 0.5692124366760254\n",
            "epoch 34, loss 0.5672417879104614\n",
            "epoch 35, loss 0.5653257966041565\n",
            "epoch 36, loss 0.5634571313858032\n",
            "epoch 37, loss 0.5616165995597839\n",
            "epoch 38, loss 0.5597951412200928\n",
            "epoch 39, loss 0.5579856634140015\n",
            "epoch 40, loss 0.5561825633049011\n",
            "epoch 41, loss 0.5543816089630127\n",
            "epoch 42, loss 0.5525771379470825\n",
            "epoch 43, loss 0.5507673025131226\n",
            "epoch 44, loss 0.548947811126709\n",
            "epoch 45, loss 0.5471107959747314\n",
            "epoch 46, loss 0.5452529788017273\n",
            "epoch 47, loss 0.5433734655380249\n",
            "epoch 48, loss 0.541467547416687\n",
            "epoch 49, loss 0.5395270586013794\n",
            "epoch 50, loss 0.5375493168830872\n",
            "epoch 51, loss 0.5355323553085327\n",
            "epoch 52, loss 0.5334751605987549\n",
            "epoch 53, loss 0.5313725471496582\n",
            "epoch 54, loss 0.5292185544967651\n",
            "epoch 55, loss 0.5270063877105713\n",
            "epoch 56, loss 0.5247370600700378\n",
            "epoch 57, loss 0.5224320292472839\n",
            "epoch 58, loss 0.5200853943824768\n",
            "epoch 59, loss 0.5176976919174194\n",
            "epoch 60, loss 0.5152590870857239\n",
            "epoch 61, loss 0.5128525495529175\n",
            "epoch 62, loss 0.5104697346687317\n",
            "epoch 63, loss 0.5081377625465393\n",
            "epoch 64, loss 0.5057969093322754\n",
            "epoch 65, loss 0.5034464597702026\n",
            "epoch 66, loss 0.5010929703712463\n",
            "epoch 67, loss 0.49874162673950195\n",
            "epoch 68, loss 0.4964248538017273\n",
            "epoch 69, loss 0.4941229522228241\n",
            "epoch 70, loss 0.4918212592601776\n",
            "epoch 71, loss 0.4895201325416565\n",
            "epoch 72, loss 0.4872214198112488\n",
            "epoch 73, loss 0.4849238097667694\n",
            "epoch 74, loss 0.48263639211654663\n",
            "epoch 75, loss 0.4803619086742401\n",
            "epoch 76, loss 0.4780940115451813\n",
            "epoch 77, loss 0.47582709789276123\n",
            "epoch 78, loss 0.47360628843307495\n",
            "epoch 79, loss 0.47143587470054626\n",
            "epoch 80, loss 0.4692515730857849\n",
            "epoch 81, loss 0.46705058217048645\n",
            "epoch 82, loss 0.46487870812416077\n",
            "epoch 83, loss 0.4627282917499542\n",
            "epoch 84, loss 0.4605754613876343\n",
            "epoch 85, loss 0.4584231972694397\n",
            "epoch 86, loss 0.4563004970550537\n",
            "epoch 87, loss 0.4541582465171814\n",
            "epoch 88, loss 0.45199838280677795\n",
            "epoch 89, loss 0.4498591721057892\n",
            "epoch 90, loss 0.44769638776779175\n",
            "epoch 91, loss 0.44551536440849304\n",
            "epoch 92, loss 0.44335630536079407\n",
            "epoch 93, loss 0.4412035644054413\n",
            "epoch 94, loss 0.4391304552555084\n",
            "epoch 95, loss 0.4370560050010681\n",
            "epoch 96, loss 0.43499821424484253\n",
            "epoch 97, loss 0.4329681992530823\n",
            "epoch 98, loss 0.4309278726577759\n",
            "epoch 99, loss 0.42890381813049316\n",
            "epoch 100, loss 0.42691758275032043\n",
            "epoch 101, loss 0.42495906352996826\n",
            "epoch 102, loss 0.42296916246414185\n",
            "epoch 103, loss 0.4209533631801605\n",
            "epoch 104, loss 0.418953537940979\n",
            "epoch 105, loss 0.4169680178165436\n",
            "epoch 106, loss 0.4149489104747772\n",
            "epoch 107, loss 0.4129137396812439\n",
            "epoch 108, loss 0.41089603304862976\n",
            "epoch 109, loss 0.4089213013648987\n",
            "epoch 110, loss 0.4069650173187256\n",
            "epoch 111, loss 0.4049798250198364\n",
            "epoch 112, loss 0.4030064344406128\n",
            "epoch 113, loss 0.40105608105659485\n",
            "epoch 114, loss 0.3991141617298126\n",
            "epoch 115, loss 0.39715588092803955\n",
            "epoch 116, loss 0.39517447352409363\n",
            "epoch 117, loss 0.3931986391544342\n",
            "epoch 118, loss 0.3912217915058136\n",
            "epoch 119, loss 0.38925063610076904\n",
            "epoch 120, loss 0.38729751110076904\n",
            "epoch 121, loss 0.3853158950805664\n",
            "epoch 122, loss 0.3833399713039398\n",
            "epoch 123, loss 0.38139063119888306\n",
            "epoch 124, loss 0.379463791847229\n",
            "epoch 125, loss 0.37757983803749084\n",
            "epoch 126, loss 0.3756892681121826\n",
            "epoch 127, loss 0.3738110065460205\n",
            "epoch 128, loss 0.37194934487342834\n",
            "epoch 129, loss 0.3700934946537018\n",
            "epoch 130, loss 0.36821988224983215\n",
            "epoch 131, loss 0.36632272601127625\n",
            "epoch 132, loss 0.36443379521369934\n",
            "epoch 133, loss 0.3625640869140625\n",
            "epoch 134, loss 0.360706090927124\n",
            "epoch 135, loss 0.35887497663497925\n",
            "epoch 136, loss 0.3570535182952881\n",
            "epoch 137, loss 0.3552200198173523\n",
            "epoch 138, loss 0.3533940613269806\n",
            "epoch 139, loss 0.3515811264514923\n",
            "epoch 140, loss 0.3497719168663025\n",
            "epoch 141, loss 0.3479629456996918\n",
            "epoch 142, loss 0.34613561630249023\n",
            "epoch 143, loss 0.3443048298358917\n",
            "epoch 144, loss 0.34248802065849304\n",
            "epoch 145, loss 0.3406817317008972\n",
            "epoch 146, loss 0.33886584639549255\n",
            "epoch 147, loss 0.337053507566452\n",
            "epoch 148, loss 0.33526021242141724\n",
            "epoch 149, loss 0.33348068594932556\n",
            "epoch 150, loss 0.3317120373249054\n",
            "epoch 151, loss 0.32994335889816284\n",
            "epoch 152, loss 0.32821500301361084\n",
            "epoch 153, loss 0.3265179991722107\n",
            "epoch 154, loss 0.3248216509819031\n",
            "epoch 155, loss 0.32309478521347046\n",
            "epoch 156, loss 0.3213697671890259\n",
            "epoch 157, loss 0.3196593225002289\n",
            "epoch 158, loss 0.3179187774658203\n",
            "epoch 159, loss 0.3161691427230835\n",
            "epoch 160, loss 0.31446540355682373\n",
            "epoch 161, loss 0.3127921223640442\n",
            "epoch 162, loss 0.31108561158180237\n",
            "epoch 163, loss 0.3093996047973633\n",
            "epoch 164, loss 0.3076842129230499\n",
            "epoch 165, loss 0.30601465702056885\n",
            "epoch 166, loss 0.3043730854988098\n",
            "epoch 167, loss 0.3027034401893616\n",
            "epoch 168, loss 0.301065593957901\n",
            "epoch 169, loss 0.29944539070129395\n",
            "epoch 170, loss 0.29779988527297974\n",
            "epoch 171, loss 0.296182781457901\n",
            "epoch 172, loss 0.29458287358283997\n",
            "epoch 173, loss 0.292974591255188\n",
            "epoch 174, loss 0.2913669943809509\n",
            "epoch 175, loss 0.28977635502815247\n",
            "epoch 176, loss 0.28815269470214844\n",
            "epoch 177, loss 0.28656071424484253\n",
            "epoch 178, loss 0.28498855233192444\n",
            "epoch 179, loss 0.28342965245246887\n",
            "epoch 180, loss 0.2818797528743744\n",
            "epoch 181, loss 0.28033629059791565\n",
            "epoch 182, loss 0.27879783511161804\n",
            "epoch 183, loss 0.27726417779922485\n",
            "epoch 184, loss 0.27576038241386414\n",
            "epoch 185, loss 0.2743164896965027\n",
            "epoch 186, loss 0.272866427898407\n",
            "epoch 187, loss 0.27139779925346375\n",
            "epoch 188, loss 0.2699187099933624\n",
            "epoch 189, loss 0.26843613386154175\n",
            "epoch 190, loss 0.2669544816017151\n",
            "epoch 191, loss 0.2654772400856018\n",
            "epoch 192, loss 0.26400652527809143\n",
            "epoch 193, loss 0.2625434696674347\n",
            "epoch 194, loss 0.2610887885093689\n",
            "epoch 195, loss 0.2596425414085388\n",
            "epoch 196, loss 0.25820454955101013\n",
            "epoch 197, loss 0.25677451491355896\n",
            "epoch 198, loss 0.2553521394729614\n",
            "epoch 199, loss 0.253937304019928\n",
            "epoch 200, loss 0.25252968072891235\n",
            "epoch 201, loss 0.2511292099952698\n",
            "epoch 202, loss 0.2497357428073883\n",
            "epoch 203, loss 0.2483493536710739\n",
            "epoch 204, loss 0.24697133898735046\n",
            "epoch 205, loss 0.24560165405273438\n",
            "epoch 206, loss 0.24423928558826447\n",
            "epoch 207, loss 0.2428833246231079\n",
            "epoch 208, loss 0.241533562541008\n",
            "epoch 209, loss 0.24018999934196472\n",
            "epoch 210, loss 0.23885275423526764\n",
            "epoch 211, loss 0.23752208054065704\n",
            "epoch 212, loss 0.23619824647903442\n",
            "epoch 213, loss 0.23488134145736694\n",
            "epoch 214, loss 0.23357167840003967\n",
            "epoch 215, loss 0.2322695404291153\n",
            "epoch 216, loss 0.23097458481788635\n",
            "epoch 217, loss 0.22968684136867523\n",
            "epoch 218, loss 0.22840602695941925\n",
            "epoch 219, loss 0.227151021361351\n",
            "epoch 220, loss 0.22588494420051575\n",
            "epoch 221, loss 0.22461673617362976\n",
            "epoch 222, loss 0.2233731746673584\n",
            "epoch 223, loss 0.2221420556306839\n",
            "epoch 224, loss 0.22091029584407806\n",
            "epoch 225, loss 0.21968114376068115\n",
            "epoch 226, loss 0.21845626831054688\n",
            "epoch 227, loss 0.21723659336566925\n",
            "epoch 228, loss 0.2160380333662033\n",
            "epoch 229, loss 0.21484950184822083\n",
            "epoch 230, loss 0.2136581689119339\n",
            "epoch 231, loss 0.21246850490570068\n",
            "epoch 232, loss 0.21128299832344055\n",
            "epoch 233, loss 0.21010304987430573\n",
            "epoch 234, loss 0.20894432067871094\n",
            "epoch 235, loss 0.2077958881855011\n",
            "epoch 236, loss 0.20664533972740173\n",
            "epoch 237, loss 0.20549766719341278\n",
            "epoch 238, loss 0.20435455441474915\n",
            "epoch 239, loss 0.20321671664714813\n",
            "epoch 240, loss 0.2020847201347351\n",
            "epoch 241, loss 0.20097336173057556\n",
            "epoch 242, loss 0.19987185299396515\n",
            "epoch 243, loss 0.19876910746097565\n",
            "epoch 244, loss 0.19770482182502747\n",
            "epoch 245, loss 0.19662120938301086\n",
            "epoch 246, loss 0.19552774727344513\n",
            "epoch 247, loss 0.19443249702453613\n",
            "epoch 248, loss 0.1933581829071045\n",
            "epoch 249, loss 0.19232630729675293\n",
            "epoch 250, loss 0.19127599895000458\n",
            "epoch 251, loss 0.19021812081336975\n",
            "epoch 252, loss 0.18919453024864197\n",
            "epoch 253, loss 0.188152477145195\n",
            "epoch 254, loss 0.18711666762828827\n",
            "epoch 255, loss 0.18612076342105865\n",
            "epoch 256, loss 0.18509960174560547\n",
            "epoch 257, loss 0.18407012522220612\n",
            "epoch 258, loss 0.18307283520698547\n",
            "epoch 259, loss 0.1820610612630844\n",
            "epoch 260, loss 0.18107908964157104\n",
            "epoch 261, loss 0.1800781637430191\n",
            "epoch 262, loss 0.1790856420993805\n",
            "epoch 263, loss 0.1781304031610489\n",
            "epoch 264, loss 0.17715513706207275\n",
            "epoch 265, loss 0.17620499432086945\n",
            "epoch 266, loss 0.17523565888404846\n",
            "epoch 267, loss 0.1742619425058365\n",
            "epoch 268, loss 0.173319473862648\n",
            "epoch 269, loss 0.17237991094589233\n",
            "epoch 270, loss 0.1714704930782318\n",
            "epoch 271, loss 0.17053760588169098\n",
            "epoch 272, loss 0.1695980578660965\n",
            "epoch 273, loss 0.16868597269058228\n",
            "epoch 274, loss 0.1677936166524887\n",
            "epoch 275, loss 0.16687826812267303\n",
            "epoch 276, loss 0.16595400869846344\n",
            "epoch 277, loss 0.16504652798175812\n",
            "epoch 278, loss 0.1641746163368225\n",
            "epoch 279, loss 0.16331622004508972\n",
            "epoch 280, loss 0.1624346673488617\n",
            "epoch 281, loss 0.16154302656650543\n",
            "epoch 282, loss 0.16065499186515808\n",
            "epoch 283, loss 0.15979662537574768\n",
            "epoch 284, loss 0.1589575856924057\n",
            "epoch 285, loss 0.15810012817382812\n",
            "epoch 286, loss 0.1572466492652893\n",
            "epoch 287, loss 0.15642529726028442\n",
            "epoch 288, loss 0.15558497607707977\n",
            "epoch 289, loss 0.15474236011505127\n",
            "epoch 290, loss 0.15392521023750305\n",
            "epoch 291, loss 0.1531258076429367\n",
            "epoch 292, loss 0.1523061990737915\n",
            "epoch 293, loss 0.15147852897644043\n",
            "epoch 294, loss 0.15066541731357574\n",
            "epoch 295, loss 0.14988373219966888\n",
            "epoch 296, loss 0.1491132527589798\n",
            "epoch 297, loss 0.14832210540771484\n",
            "epoch 298, loss 0.1475221812725067\n",
            "epoch 299, loss 0.14674782752990723\n",
            "epoch 300, loss 0.14596252143383026\n",
            "epoch 301, loss 0.14517739415168762\n",
            "epoch 302, loss 0.14441758394241333\n",
            "epoch 303, loss 0.14368577301502228\n",
            "epoch 304, loss 0.1429397165775299\n",
            "epoch 305, loss 0.14218004047870636\n",
            "epoch 306, loss 0.1414203941822052\n",
            "epoch 307, loss 0.1406848132610321\n",
            "epoch 308, loss 0.13996422290802002\n",
            "epoch 309, loss 0.1392281949520111\n",
            "epoch 310, loss 0.13848662376403809\n",
            "epoch 311, loss 0.13776706159114838\n",
            "epoch 312, loss 0.13705037534236908\n",
            "epoch 313, loss 0.13635538518428802\n",
            "epoch 314, loss 0.13564421236515045\n",
            "epoch 315, loss 0.13494844734668732\n",
            "epoch 316, loss 0.13424032926559448\n",
            "epoch 317, loss 0.13353098928928375\n",
            "epoch 318, loss 0.13284292817115784\n",
            "epoch 319, loss 0.1321684867143631\n",
            "epoch 320, loss 0.13147978484630585\n",
            "epoch 321, loss 0.13078661262989044\n",
            "epoch 322, loss 0.13011400401592255\n",
            "epoch 323, loss 0.12946495413780212\n",
            "epoch 324, loss 0.1288042813539505\n",
            "epoch 325, loss 0.12813358008861542\n",
            "epoch 326, loss 0.12748102843761444\n",
            "epoch 327, loss 0.12682051956653595\n",
            "epoch 328, loss 0.1261766403913498\n",
            "epoch 329, loss 0.12552425265312195\n",
            "epoch 330, loss 0.12488819658756256\n",
            "epoch 331, loss 0.12424290180206299\n",
            "epoch 332, loss 0.12361432611942291\n",
            "epoch 333, loss 0.12297625094652176\n",
            "epoch 334, loss 0.12234723567962646\n",
            "epoch 335, loss 0.12173981964588165\n",
            "epoch 336, loss 0.12113875150680542\n",
            "epoch 337, loss 0.12052299082279205\n",
            "epoch 338, loss 0.11990214884281158\n",
            "epoch 339, loss 0.11929843574762344\n",
            "epoch 340, loss 0.11870638281106949\n",
            "epoch 341, loss 0.11810187995433807\n",
            "epoch 342, loss 0.11749330908060074\n",
            "epoch 343, loss 0.11688834428787231\n",
            "epoch 344, loss 0.11630317568778992\n",
            "epoch 345, loss 0.11573060601949692\n",
            "epoch 346, loss 0.11514819413423538\n",
            "epoch 347, loss 0.11457102745771408\n",
            "epoch 348, loss 0.1140131726861\n",
            "epoch 349, loss 0.1134435385465622\n",
            "epoch 350, loss 0.11288636922836304\n",
            "epoch 351, loss 0.11231972277164459\n",
            "epoch 352, loss 0.11175096035003662\n",
            "epoch 353, loss 0.11119911074638367\n",
            "epoch 354, loss 0.11064206063747406\n",
            "epoch 355, loss 0.11009974032640457\n",
            "epoch 356, loss 0.10955001413822174\n",
            "epoch 357, loss 0.10899878293275833\n",
            "epoch 358, loss 0.10846438258886337\n",
            "epoch 359, loss 0.10792477428913116\n",
            "epoch 360, loss 0.10738503187894821\n",
            "epoch 361, loss 0.10686956346035004\n",
            "epoch 362, loss 0.10635142028331757\n",
            "epoch 363, loss 0.10582786798477173\n",
            "epoch 364, loss 0.10531704127788544\n",
            "epoch 365, loss 0.10479985922574997\n",
            "epoch 366, loss 0.10428124666213989\n",
            "epoch 367, loss 0.10377747565507889\n",
            "epoch 368, loss 0.10326869040727615\n",
            "epoch 369, loss 0.10275892913341522\n",
            "epoch 370, loss 0.10226471722126007\n",
            "epoch 371, loss 0.10176592320203781\n",
            "epoch 372, loss 0.10126607120037079\n",
            "epoch 373, loss 0.10076859593391418\n",
            "epoch 374, loss 0.10028667747974396\n",
            "epoch 375, loss 0.09980107098817825\n",
            "epoch 376, loss 0.09932217746973038\n",
            "epoch 377, loss 0.09885958582162857\n",
            "epoch 378, loss 0.09838711470365524\n",
            "epoch 379, loss 0.09791085124015808\n",
            "epoch 380, loss 0.0974348783493042\n",
            "epoch 381, loss 0.09697357565164566\n",
            "epoch 382, loss 0.09650801867246628\n",
            "epoch 383, loss 0.09604158252477646\n",
            "epoch 384, loss 0.09557665139436722\n",
            "epoch 385, loss 0.0951266810297966\n",
            "epoch 386, loss 0.09467270225286484\n",
            "epoch 387, loss 0.09421789646148682\n",
            "epoch 388, loss 0.09376445412635803\n",
            "epoch 389, loss 0.09331387281417847\n",
            "epoch 390, loss 0.09287825226783752\n",
            "epoch 391, loss 0.09244614839553833\n",
            "epoch 392, loss 0.09201481193304062\n",
            "epoch 393, loss 0.09158021956682205\n",
            "epoch 394, loss 0.09114574640989304\n",
            "epoch 395, loss 0.09071322530508041\n",
            "epoch 396, loss 0.09028361737728119\n",
            "epoch 397, loss 0.08986759185791016\n",
            "epoch 398, loss 0.08944792300462723\n",
            "epoch 399, loss 0.08902687579393387\n",
            "epoch 400, loss 0.08860651403665543\n",
            "epoch 401, loss 0.08818812668323517\n",
            "epoch 402, loss 0.08777251839637756\n",
            "epoch 403, loss 0.08735993504524231\n",
            "epoch 404, loss 0.08695059269666672\n",
            "epoch 405, loss 0.08654431253671646\n",
            "epoch 406, loss 0.08614099770784378\n",
            "epoch 407, loss 0.08574686199426651\n",
            "epoch 408, loss 0.08535692095756531\n",
            "epoch 409, loss 0.08496536314487457\n",
            "epoch 410, loss 0.08457405865192413\n",
            "epoch 411, loss 0.08418384194374084\n",
            "epoch 412, loss 0.08379533141851425\n",
            "epoch 413, loss 0.08340877294540405\n",
            "epoch 414, loss 0.08302425593137741\n",
            "epoch 415, loss 0.08264195173978806\n",
            "epoch 416, loss 0.08226186782121658\n",
            "epoch 417, loss 0.08188403397798538\n",
            "epoch 418, loss 0.08150840550661087\n",
            "epoch 419, loss 0.08113503456115723\n",
            "epoch 420, loss 0.08076387643814087\n",
            "epoch 421, loss 0.08040095865726471\n",
            "epoch 422, loss 0.08004172146320343\n",
            "epoch 423, loss 0.07968087494373322\n",
            "epoch 424, loss 0.07932012528181076\n",
            "epoch 425, loss 0.07896046340465546\n",
            "epoch 426, loss 0.07860229164361954\n",
            "epoch 427, loss 0.07824604213237762\n",
            "epoch 428, loss 0.07789172232151031\n",
            "epoch 429, loss 0.0775393694639206\n",
            "epoch 430, loss 0.07718901336193085\n",
            "epoch 431, loss 0.07684070616960526\n",
            "epoch 432, loss 0.07649433612823486\n",
            "epoch 433, loss 0.07615000009536743\n",
            "epoch 434, loss 0.07581336796283722\n",
            "epoch 435, loss 0.0754801481962204\n",
            "epoch 436, loss 0.07514526695013046\n",
            "epoch 437, loss 0.07481051236391068\n",
            "epoch 438, loss 0.07447666674852371\n",
            "epoch 439, loss 0.07414424419403076\n",
            "epoch 440, loss 0.07381344586610794\n",
            "epoch 441, loss 0.07348441332578659\n",
            "epoch 442, loss 0.07315719127655029\n",
            "epoch 443, loss 0.07283182442188263\n",
            "epoch 444, loss 0.0725083202123642\n",
            "epoch 445, loss 0.07218670099973679\n",
            "epoch 446, loss 0.07186689972877502\n",
            "epoch 447, loss 0.07155433297157288\n",
            "epoch 448, loss 0.07124491035938263\n",
            "epoch 449, loss 0.07093395292758942\n",
            "epoch 450, loss 0.07062296569347382\n",
            "epoch 451, loss 0.07031285017728806\n",
            "epoch 452, loss 0.07000395655632019\n",
            "epoch 453, loss 0.06969656050205231\n",
            "epoch 454, loss 0.06939077377319336\n",
            "epoch 455, loss 0.06908668577671051\n",
            "epoch 456, loss 0.06878424435853958\n",
            "epoch 457, loss 0.06848355382680893\n",
            "epoch 458, loss 0.06818963587284088\n",
            "epoch 459, loss 0.067898690700531\n",
            "epoch 460, loss 0.06760624051094055\n",
            "epoch 461, loss 0.06731374561786652\n",
            "epoch 462, loss 0.06702201813459396\n",
            "epoch 463, loss 0.06673142313957214\n",
            "epoch 464, loss 0.06644222885370255\n",
            "epoch 465, loss 0.06615452468395233\n",
            "epoch 466, loss 0.06586837768554688\n",
            "epoch 467, loss 0.06558380275964737\n",
            "epoch 468, loss 0.06530572474002838\n",
            "epoch 469, loss 0.06503041088581085\n",
            "epoch 470, loss 0.06475361436605453\n",
            "epoch 471, loss 0.06447675079107285\n",
            "epoch 472, loss 0.06420058012008667\n",
            "epoch 473, loss 0.06392549723386765\n",
            "epoch 474, loss 0.0636516660451889\n",
            "epoch 475, loss 0.06337928771972656\n",
            "epoch 476, loss 0.06310833245515823\n",
            "epoch 477, loss 0.06283888220787048\n",
            "epoch 478, loss 0.06257558614015579\n",
            "epoch 479, loss 0.06231490150094032\n",
            "epoch 480, loss 0.062052786350250244\n",
            "epoch 481, loss 0.06179056689143181\n",
            "epoch 482, loss 0.06152899190783501\n",
            "epoch 483, loss 0.061268407851457596\n",
            "epoch 484, loss 0.06100902333855629\n",
            "epoch 485, loss 0.06075097247958183\n",
            "epoch 486, loss 0.06049134582281113\n",
            "epoch 487, loss 0.060234520584344864\n",
            "epoch 488, loss 0.05998251959681511\n",
            "epoch 489, loss 0.05973070114850998\n",
            "epoch 490, loss 0.059477873146533966\n",
            "epoch 491, loss 0.059228383004665375\n",
            "epoch 492, loss 0.058980487287044525\n",
            "epoch 493, loss 0.058732032775878906\n",
            "epoch 494, loss 0.05848410353064537\n",
            "epoch 495, loss 0.05824166163802147\n",
            "epoch 496, loss 0.05800189450383186\n",
            "epoch 497, loss 0.057763710618019104\n",
            "epoch 498, loss 0.057526081800460815\n",
            "epoch 499, loss 0.057287100702524185\n",
            "epoch 500, loss 0.0570480152964592\n",
            "epoch 501, loss 0.056809619069099426\n",
            "epoch 502, loss 0.05657242238521576\n",
            "epoch 503, loss 0.056340839713811874\n",
            "epoch 504, loss 0.05611182749271393\n",
            "epoch 505, loss 0.05588170140981674\n",
            "epoch 506, loss 0.055651724338531494\n",
            "epoch 507, loss 0.055422354489564896\n",
            "epoch 508, loss 0.0551939532160759\n",
            "epoch 509, loss 0.05496668070554733\n",
            "epoch 510, loss 0.05474052205681801\n",
            "epoch 511, loss 0.054519567638635635\n",
            "epoch 512, loss 0.05430077016353607\n",
            "epoch 513, loss 0.054080694913864136\n",
            "epoch 514, loss 0.05386044457554817\n",
            "epoch 515, loss 0.053640637546777725\n",
            "epoch 516, loss 0.05342164263129234\n",
            "epoch 517, loss 0.05320359021425247\n",
            "epoch 518, loss 0.052986644208431244\n",
            "epoch 519, loss 0.052774690091609955\n",
            "epoch 520, loss 0.05256478488445282\n",
            "epoch 521, loss 0.05235368758440018\n",
            "epoch 522, loss 0.05214237794280052\n",
            "epoch 523, loss 0.051931507885456085\n",
            "epoch 524, loss 0.05172141268849373\n",
            "epoch 525, loss 0.051512230187654495\n",
            "epoch 526, loss 0.051307812333106995\n",
            "epoch 527, loss 0.05110554024577141\n",
            "epoch 528, loss 0.050902120769023895\n",
            "epoch 529, loss 0.05069851875305176\n",
            "epoch 530, loss 0.050495270639657974\n",
            "epoch 531, loss 0.05029264837503433\n",
            "epoch 532, loss 0.050090860575437546\n",
            "epoch 533, loss 0.04989367350935936\n",
            "epoch 534, loss 0.04969833418726921\n",
            "epoch 535, loss 0.04950174316763878\n",
            "epoch 536, loss 0.04930499941110611\n",
            "epoch 537, loss 0.049108631908893585\n",
            "epoch 538, loss 0.048912931233644485\n",
            "epoch 539, loss 0.048718057572841644\n",
            "epoch 540, loss 0.04852772131562233\n",
            "epoch 541, loss 0.04833921417593956\n",
            "epoch 542, loss 0.048149511218070984\n",
            "epoch 543, loss 0.04795961081981659\n",
            "epoch 544, loss 0.047770071774721146\n",
            "epoch 545, loss 0.047581180930137634\n",
            "epoch 546, loss 0.04739312082529068\n",
            "epoch 547, loss 0.047209396958351135\n",
            "epoch 548, loss 0.04702741280198097\n",
            "epoch 549, loss 0.04684427008032799\n",
            "epoch 550, loss 0.04666094854474068\n",
            "epoch 551, loss 0.04647796228528023\n",
            "epoch 552, loss 0.04629560187458992\n",
            "epoch 553, loss 0.04611736163496971\n",
            "epoch 554, loss 0.04594080522656441\n",
            "epoch 555, loss 0.04576307535171509\n",
            "epoch 556, loss 0.04558510705828667\n",
            "epoch 557, loss 0.045407477766275406\n",
            "epoch 558, loss 0.045230425894260406\n",
            "epoch 559, loss 0.04505414515733719\n",
            "epoch 560, loss 0.04488193243741989\n",
            "epoch 561, loss 0.04471142590045929\n",
            "epoch 562, loss 0.04453972727060318\n",
            "epoch 563, loss 0.044367820024490356\n",
            "epoch 564, loss 0.04419626668095589\n",
            "epoch 565, loss 0.044025223702192307\n",
            "epoch 566, loss 0.04385807737708092\n",
            "epoch 567, loss 0.04369253292679787\n",
            "epoch 568, loss 0.043525852262973785\n",
            "epoch 569, loss 0.04335890710353851\n",
            "epoch 570, loss 0.04319228231906891\n",
            "epoch 571, loss 0.043026186525821686\n",
            "epoch 572, loss 0.042863879352808\n",
            "epoch 573, loss 0.04270309954881668\n",
            "epoch 574, loss 0.042541228234767914\n",
            "epoch 575, loss 0.04237906262278557\n",
            "epoch 576, loss 0.04221717268228531\n",
            "epoch 577, loss 0.04205891862511635\n",
            "epoch 578, loss 0.04190200939774513\n",
            "epoch 579, loss 0.04174397513270378\n",
            "epoch 580, loss 0.041585665196180344\n",
            "epoch 581, loss 0.04142763465642929\n",
            "epoch 582, loss 0.04127006605267525\n",
            "epoch 583, loss 0.04111612215638161\n",
            "epoch 584, loss 0.04096364974975586\n",
            "epoch 585, loss 0.040810056030750275\n",
            "epoch 586, loss 0.04065623879432678\n",
            "epoch 587, loss 0.04050268605351448\n",
            "epoch 588, loss 0.040352534502744675\n",
            "epoch 589, loss 0.040203679352998734\n",
            "epoch 590, loss 0.040053706616163254\n",
            "epoch 591, loss 0.03990350663661957\n",
            "epoch 592, loss 0.039753518998622894\n",
            "epoch 593, loss 0.039604004472494125\n",
            "epoch 594, loss 0.039457909762859344\n",
            "epoch 595, loss 0.039313215762376785\n",
            "epoch 596, loss 0.039167437702417374\n",
            "epoch 597, loss 0.03902146965265274\n",
            "epoch 598, loss 0.03887847810983658\n",
            "epoch 599, loss 0.03873663768172264\n",
            "epoch 600, loss 0.03859362751245499\n",
            "epoch 601, loss 0.03845034912228584\n",
            "epoch 602, loss 0.03830721974372864\n",
            "epoch 603, loss 0.038164522498846054\n",
            "epoch 604, loss 0.03802517056465149\n",
            "epoch 605, loss 0.037887100130319595\n",
            "epoch 606, loss 0.037747956812381744\n",
            "epoch 607, loss 0.03760863468050957\n",
            "epoch 608, loss 0.03747217357158661\n",
            "epoch 609, loss 0.0373368039727211\n",
            "epoch 610, loss 0.03720032796263695\n",
            "epoch 611, loss 0.03706354275345802\n",
            "epoch 612, loss 0.036926958709955215\n",
            "epoch 613, loss 0.036793384701013565\n",
            "epoch 614, loss 0.03666098043322563\n",
            "epoch 615, loss 0.03652755543589592\n",
            "epoch 616, loss 0.036393921822309494\n",
            "epoch 617, loss 0.03626048192381859\n",
            "epoch 618, loss 0.03613002598285675\n",
            "epoch 619, loss 0.03600071743130684\n",
            "epoch 620, loss 0.03587036579847336\n",
            "epoch 621, loss 0.035739753395318985\n",
            "epoch 622, loss 0.0356118381023407\n",
            "epoch 623, loss 0.035484910011291504\n",
            "epoch 624, loss 0.03535694628953934\n",
            "epoch 625, loss 0.03522862493991852\n",
            "epoch 626, loss 0.03510301560163498\n",
            "epoch 627, loss 0.03497833386063576\n",
            "epoch 628, loss 0.03485259413719177\n",
            "epoch 629, loss 0.034726615995168686\n",
            "epoch 630, loss 0.034600745886564255\n",
            "epoch 631, loss 0.03447769954800606\n",
            "epoch 632, loss 0.03435574471950531\n",
            "epoch 633, loss 0.03423280268907547\n",
            "epoch 634, loss 0.03410964086651802\n",
            "epoch 635, loss 0.03398900479078293\n",
            "epoch 636, loss 0.033869341015815735\n",
            "epoch 637, loss 0.03374865651130676\n",
            "epoch 638, loss 0.03362768515944481\n",
            "epoch 639, loss 0.03350921720266342\n",
            "epoch 640, loss 0.03339167684316635\n",
            "epoch 641, loss 0.03327314183115959\n",
            "epoch 642, loss 0.03315427526831627\n",
            "epoch 643, loss 0.03303791582584381\n",
            "epoch 644, loss 0.03292242810130119\n",
            "epoch 645, loss 0.03280596062541008\n",
            "epoch 646, loss 0.03268924355506897\n",
            "epoch 647, loss 0.032574914395809174\n",
            "epoch 648, loss 0.03246144950389862\n",
            "epoch 649, loss 0.03234705328941345\n",
            "epoch 650, loss 0.03223234787583351\n",
            "epoch 651, loss 0.03212006762623787\n",
            "epoch 652, loss 0.03200864791870117\n",
            "epoch 653, loss 0.03189622983336449\n",
            "epoch 654, loss 0.031783558428287506\n",
            "epoch 655, loss 0.03167322650551796\n",
            "epoch 656, loss 0.03156372532248497\n",
            "epoch 657, loss 0.03145328909158707\n",
            "epoch 658, loss 0.03134477138519287\n",
            "epoch 659, loss 0.031236885115504265\n",
            "epoch 660, loss 0.031127963215112686\n",
            "epoch 661, loss 0.031018702313303947\n",
            "epoch 662, loss 0.030911710113286972\n",
            "epoch 663, loss 0.030805513262748718\n",
            "epoch 664, loss 0.030698370188474655\n",
            "epoch 665, loss 0.030590958893299103\n",
            "epoch 666, loss 0.030485792085528374\n",
            "epoch 667, loss 0.03038143739104271\n",
            "epoch 668, loss 0.030276156961917877\n",
            "epoch 669, loss 0.03017273359000683\n",
            "epoch 670, loss 0.03006988950073719\n",
            "epoch 671, loss 0.029966067522764206\n",
            "epoch 672, loss 0.029861880466341972\n",
            "epoch 673, loss 0.029759852215647697\n",
            "epoch 674, loss 0.02965862676501274\n",
            "epoch 675, loss 0.02955644391477108\n",
            "epoch 676, loss 0.029456086456775665\n",
            "epoch 677, loss 0.029356341809034348\n",
            "epoch 678, loss 0.029255539178848267\n",
            "epoch 679, loss 0.029154470190405846\n",
            "epoch 680, loss 0.02905544452369213\n",
            "epoch 681, loss 0.02895720861852169\n",
            "epoch 682, loss 0.02885805442929268\n",
            "epoch 683, loss 0.02876066416501999\n",
            "epoch 684, loss 0.02866385318338871\n",
            "epoch 685, loss 0.028566066175699234\n",
            "epoch 686, loss 0.028469931334257126\n",
            "epoch 687, loss 0.028374362736940384\n",
            "epoch 688, loss 0.028277775272727013\n",
            "epoch 689, loss 0.028180891647934914\n",
            "epoch 690, loss 0.02808598056435585\n",
            "epoch 691, loss 0.027991842478513718\n",
            "epoch 692, loss 0.027896812185645103\n",
            "epoch 693, loss 0.027803458273410797\n",
            "epoch 694, loss 0.027710655704140663\n",
            "epoch 695, loss 0.027616899460554123\n",
            "epoch 696, loss 0.027524776756763458\n",
            "epoch 697, loss 0.027433142066001892\n",
            "epoch 698, loss 0.027340540662407875\n",
            "epoch 699, loss 0.027249595150351524\n",
            "epoch 700, loss 0.027159156277775764\n",
            "epoch 701, loss 0.027067814022302628\n",
            "epoch 702, loss 0.026978062465786934\n",
            "epoch 703, loss 0.0268887747079134\n",
            "epoch 704, loss 0.026798518374562263\n",
            "epoch 705, loss 0.02670980803668499\n",
            "epoch 706, loss 0.026621537283062935\n",
            "epoch 707, loss 0.026532350108027458\n",
            "epoch 708, loss 0.02644469402730465\n",
            "epoch 709, loss 0.02635752595961094\n",
            "epoch 710, loss 0.02626938745379448\n",
            "epoch 711, loss 0.026182817295193672\n",
            "epoch 712, loss 0.026096709072589874\n",
            "epoch 713, loss 0.0260096937417984\n",
            "epoch 714, loss 0.025924168527126312\n",
            "epoch 715, loss 0.02583913691341877\n",
            "epoch 716, loss 0.02575315348803997\n",
            "epoch 717, loss 0.025668703019618988\n",
            "epoch 718, loss 0.025584710761904716\n",
            "epoch 719, loss 0.025499820709228516\n",
            "epoch 720, loss 0.025416402146220207\n",
            "epoch 721, loss 0.025333452969789505\n",
            "epoch 722, loss 0.025249596685171127\n",
            "epoch 723, loss 0.02516721747815609\n",
            "epoch 724, loss 0.02508527785539627\n",
            "epoch 725, loss 0.02500244230031967\n",
            "epoch 726, loss 0.02492108754813671\n",
            "epoch 727, loss 0.02484012395143509\n",
            "epoch 728, loss 0.024760043248534203\n",
            "epoch 729, loss 0.024680087342858315\n",
            "epoch 730, loss 0.024599092081189156\n",
            "epoch 731, loss 0.024519428610801697\n",
            "epoch 732, loss 0.02444014698266983\n",
            "epoch 733, loss 0.02435997687280178\n",
            "epoch 734, loss 0.024281181395053864\n",
            "epoch 735, loss 0.024202844128012657\n",
            "epoch 736, loss 0.024123601615428925\n",
            "epoch 737, loss 0.02404576912522316\n",
            "epoch 738, loss 0.023968350142240524\n",
            "epoch 739, loss 0.023891745135188103\n",
            "epoch 740, loss 0.023815253749489784\n",
            "epoch 741, loss 0.023737765848636627\n",
            "epoch 742, loss 0.02366156131029129\n",
            "epoch 743, loss 0.023585699498653412\n",
            "epoch 744, loss 0.023509010672569275\n",
            "epoch 745, loss 0.023433631286025047\n",
            "epoch 746, loss 0.023358672857284546\n",
            "epoch 747, loss 0.02328450046479702\n",
            "epoch 748, loss 0.023210441693663597\n",
            "epoch 749, loss 0.023135405033826828\n",
            "epoch 750, loss 0.023061590269207954\n",
            "epoch 751, loss 0.022988131269812584\n",
            "epoch 752, loss 0.022915448993444443\n",
            "epoch 753, loss 0.02284281514585018\n",
            "epoch 754, loss 0.022769227623939514\n",
            "epoch 755, loss 0.02269686944782734\n",
            "epoch 756, loss 0.022624829784035683\n",
            "epoch 757, loss 0.0225520022213459\n",
            "epoch 758, loss 0.022480400279164314\n",
            "epoch 759, loss 0.02241075411438942\n",
            "epoch 760, loss 0.022340718656778336\n",
            "epoch 761, loss 0.022269416600465775\n",
            "epoch 762, loss 0.022197626531124115\n",
            "epoch 763, loss 0.02212720923125744\n",
            "epoch 764, loss 0.022058837115764618\n",
            "epoch 765, loss 0.021990083158016205\n",
            "epoch 766, loss 0.021920155733823776\n",
            "epoch 767, loss 0.02184971049427986\n",
            "epoch 768, loss 0.021780669689178467\n",
            "epoch 769, loss 0.0217136237770319\n",
            "epoch 770, loss 0.021646233275532722\n",
            "epoch 771, loss 0.021577607840299606\n",
            "epoch 772, loss 0.021510034799575806\n",
            "epoch 773, loss 0.021442726254463196\n",
            "epoch 774, loss 0.021374579519033432\n",
            "epoch 775, loss 0.02130761183798313\n",
            "epoch 776, loss 0.021242450922727585\n",
            "epoch 777, loss 0.021176910027861595\n",
            "epoch 778, loss 0.021110177040100098\n",
            "epoch 779, loss 0.021042948588728905\n",
            "epoch 780, loss 0.02097708359360695\n",
            "epoch 781, loss 0.02091304399073124\n",
            "epoch 782, loss 0.02084868960082531\n",
            "epoch 783, loss 0.020783202722668648\n",
            "epoch 784, loss 0.02071869932115078\n",
            "epoch 785, loss 0.020654434338212013\n",
            "epoch 786, loss 0.020590828731656075\n",
            "epoch 787, loss 0.020527228713035583\n",
            "epoch 788, loss 0.020464157685637474\n",
            "epoch 789, loss 0.0204011257737875\n",
            "epoch 790, loss 0.020337160676717758\n",
            "epoch 791, loss 0.020274266600608826\n",
            "epoch 792, loss 0.02021303027868271\n",
            "epoch 793, loss 0.020151397213339806\n",
            "epoch 794, loss 0.020088644698262215\n",
            "epoch 795, loss 0.02002676948904991\n",
            "epoch 796, loss 0.019965145736932755\n",
            "epoch 797, loss 0.019904114305973053\n",
            "epoch 798, loss 0.019843120127916336\n",
            "epoch 799, loss 0.019781267270445824\n",
            "epoch 800, loss 0.019720470532774925\n",
            "epoch 801, loss 0.019661301746964455\n",
            "epoch 802, loss 0.019601736217737198\n",
            "epoch 803, loss 0.019541066139936447\n",
            "epoch 804, loss 0.019481267780065536\n",
            "epoch 805, loss 0.019423045217990875\n",
            "epoch 806, loss 0.01936442404985428\n",
            "epoch 807, loss 0.019304640591144562\n",
            "epoch 808, loss 0.01924576424062252\n",
            "epoch 809, loss 0.01918708346784115\n",
            "epoch 810, loss 0.019128980115056038\n",
            "epoch 811, loss 0.019070886075496674\n",
            "epoch 812, loss 0.019013315439224243\n",
            "epoch 813, loss 0.018955696374177933\n",
            "epoch 814, loss 0.01889858767390251\n",
            "epoch 815, loss 0.018841417506337166\n",
            "epoch 816, loss 0.018783412873744965\n",
            "epoch 817, loss 0.01872636005282402\n",
            "epoch 818, loss 0.018670853227376938\n",
            "epoch 819, loss 0.018615012988448143\n",
            "epoch 820, loss 0.018558137118816376\n",
            "epoch 821, loss 0.018502160906791687\n",
            "epoch 822, loss 0.01844760775566101\n",
            "epoch 823, loss 0.018392598256468773\n",
            "epoch 824, loss 0.01833656057715416\n",
            "epoch 825, loss 0.018281320109963417\n",
            "epoch 826, loss 0.01822749339044094\n",
            "epoch 827, loss 0.018173281103372574\n",
            "epoch 828, loss 0.018117986619472504\n",
            "epoch 829, loss 0.0180634967982769\n",
            "epoch 830, loss 0.018010450527071953\n",
            "epoch 831, loss 0.017957009375095367\n",
            "epoch 832, loss 0.017902521416544914\n",
            "epoch 833, loss 0.01784881390631199\n",
            "epoch 834, loss 0.017796551808714867\n",
            "epoch 835, loss 0.017743859440088272\n",
            "epoch 836, loss 0.01769019290804863\n",
            "epoch 837, loss 0.01763729937374592\n",
            "epoch 838, loss 0.01758582703769207\n",
            "epoch 839, loss 0.017533909529447556\n",
            "epoch 840, loss 0.017482241615653038\n",
            "epoch 841, loss 0.01743042655289173\n",
            "epoch 842, loss 0.017378918826580048\n",
            "epoch 843, loss 0.017327412962913513\n",
            "epoch 844, loss 0.017276281490921974\n",
            "epoch 845, loss 0.017225101590156555\n",
            "epoch 846, loss 0.017174312844872475\n",
            "epoch 847, loss 0.017123514786362648\n",
            "epoch 848, loss 0.01707308553159237\n",
            "epoch 849, loss 0.017023799940943718\n",
            "epoch 850, loss 0.016974061727523804\n",
            "epoch 851, loss 0.016923265531659126\n",
            "epoch 852, loss 0.01687319576740265\n",
            "epoch 853, loss 0.016824446618556976\n",
            "epoch 854, loss 0.016775300726294518\n",
            "epoch 855, loss 0.01672520861029625\n",
            "epoch 856, loss 0.016675852239131927\n",
            "epoch 857, loss 0.01662779413163662\n",
            "epoch 858, loss 0.016579370945692062\n",
            "epoch 859, loss 0.016531135886907578\n",
            "epoch 860, loss 0.016482757404446602\n",
            "epoch 861, loss 0.01643470674753189\n",
            "epoch 862, loss 0.016387710347771645\n",
            "epoch 863, loss 0.016340242698788643\n",
            "epoch 864, loss 0.01629180833697319\n",
            "epoch 865, loss 0.016244027763605118\n",
            "epoch 866, loss 0.016197524964809418\n",
            "epoch 867, loss 0.01615062542259693\n",
            "epoch 868, loss 0.016103895381093025\n",
            "epoch 869, loss 0.016057034954428673\n",
            "epoch 870, loss 0.016010524705052376\n",
            "epoch 871, loss 0.015963951125741005\n",
            "epoch 872, loss 0.015917707234621048\n",
            "epoch 873, loss 0.015872521325945854\n",
            "epoch 874, loss 0.01582690142095089\n",
            "epoch 875, loss 0.01578027382493019\n",
            "epoch 876, loss 0.01573435217142105\n",
            "epoch 877, loss 0.01568959653377533\n",
            "epoch 878, loss 0.015645597130060196\n",
            "epoch 879, loss 0.015600958839058876\n",
            "epoch 880, loss 0.015555271878838539\n",
            "epoch 881, loss 0.015510174445807934\n",
            "epoch 882, loss 0.015466245822608471\n",
            "epoch 883, loss 0.015421967022120953\n",
            "epoch 884, loss 0.015377814881503582\n",
            "epoch 885, loss 0.015334626659750938\n",
            "epoch 886, loss 0.015290903858840466\n",
            "epoch 887, loss 0.015246240422129631\n",
            "epoch 888, loss 0.015202218666672707\n",
            "epoch 889, loss 0.015159337781369686\n",
            "epoch 890, loss 0.015117108821868896\n",
            "epoch 891, loss 0.015074312686920166\n",
            "epoch 892, loss 0.015030489303171635\n",
            "epoch 893, loss 0.014987253583967686\n",
            "epoch 894, loss 0.01494515035301447\n",
            "epoch 895, loss 0.014903686009347439\n",
            "epoch 896, loss 0.014861627481877804\n",
            "epoch 897, loss 0.014818549156188965\n",
            "epoch 898, loss 0.01477606687694788\n",
            "epoch 899, loss 0.01473466120660305\n",
            "epoch 900, loss 0.014693929813802242\n",
            "epoch 901, loss 0.014652571640908718\n",
            "epoch 902, loss 0.014610261656343937\n",
            "epoch 903, loss 0.014568482525646687\n",
            "epoch 904, loss 0.014527824707329273\n",
            "epoch 905, loss 0.014487792737782001\n",
            "epoch 906, loss 0.014447151683270931\n",
            "epoch 907, loss 0.014405529946088791\n",
            "epoch 908, loss 0.014364467933773994\n",
            "epoch 909, loss 0.0143244918435812\n",
            "epoch 910, loss 0.014285149052739143\n",
            "epoch 911, loss 0.014245206490159035\n",
            "epoch 912, loss 0.014204300940036774\n",
            "epoch 913, loss 0.014163965359330177\n",
            "epoch 914, loss 0.014124678447842598\n",
            "epoch 915, loss 0.014086010865867138\n",
            "epoch 916, loss 0.014046772383153439\n",
            "epoch 917, loss 0.01400752179324627\n",
            "epoch 918, loss 0.01396908424794674\n",
            "epoch 919, loss 0.013930102810263634\n",
            "epoch 920, loss 0.01389025617390871\n",
            "epoch 921, loss 0.01385097112506628\n",
            "epoch 922, loss 0.013812707737088203\n",
            "epoch 923, loss 0.013775056228041649\n",
            "epoch 924, loss 0.013737798668444157\n",
            "epoch 925, loss 0.013699828647077084\n",
            "epoch 926, loss 0.013660919852554798\n",
            "epoch 927, loss 0.013622461818158627\n",
            "epoch 928, loss 0.013585000298917294\n",
            "epoch 929, loss 0.01354811992496252\n",
            "epoch 930, loss 0.013510686345398426\n",
            "epoch 931, loss 0.013473271392285824\n",
            "epoch 932, loss 0.013436583802103996\n",
            "epoch 933, loss 0.013399431481957436\n",
            "epoch 934, loss 0.013362306170165539\n",
            "epoch 935, loss 0.013325045816600323\n",
            "epoch 936, loss 0.013288035988807678\n",
            "epoch 937, loss 0.01325183641165495\n",
            "epoch 938, loss 0.013216137886047363\n",
            "epoch 939, loss 0.013179867528378963\n",
            "epoch 940, loss 0.013143564574420452\n",
            "epoch 941, loss 0.013107109814882278\n",
            "epoch 942, loss 0.013070785440504551\n",
            "epoch 943, loss 0.013035362586379051\n",
            "epoch 944, loss 0.013000346720218658\n",
            "epoch 945, loss 0.012964797206223011\n",
            "epoch 946, loss 0.012929214164614677\n",
            "epoch 947, loss 0.01289349514991045\n",
            "epoch 948, loss 0.012857933528721333\n",
            "epoch 949, loss 0.012823178432881832\n",
            "epoch 950, loss 0.01278888713568449\n",
            "epoch 951, loss 0.012754013761878014\n",
            "epoch 952, loss 0.01271914504468441\n",
            "epoch 953, loss 0.012684956192970276\n",
            "epoch 954, loss 0.012650315649807453\n",
            "epoch 955, loss 0.01261572353541851\n",
            "epoch 956, loss 0.01258182618767023\n",
            "epoch 957, loss 0.01254750695079565\n",
            "epoch 958, loss 0.012513271532952785\n",
            "epoch 959, loss 0.012479716911911964\n",
            "epoch 960, loss 0.012446573935449123\n",
            "epoch 961, loss 0.01241286750882864\n",
            "epoch 962, loss 0.012379133142530918\n",
            "epoch 963, loss 0.012346065603196621\n",
            "epoch 964, loss 0.012312524951994419\n",
            "epoch 965, loss 0.012279060669243336\n",
            "epoch 966, loss 0.012246301397681236\n",
            "epoch 967, loss 0.012213079258799553\n",
            "epoch 968, loss 0.01217989344149828\n",
            "epoch 969, loss 0.012147440575063229\n",
            "epoch 970, loss 0.012115389108657837\n",
            "epoch 971, loss 0.012082760222256184\n",
            "epoch 972, loss 0.012050106190145016\n",
            "epoch 973, loss 0.012018118984997272\n",
            "epoch 974, loss 0.011985663324594498\n",
            "epoch 975, loss 0.01195329986512661\n",
            "epoch 976, loss 0.011921531520783901\n",
            "epoch 977, loss 0.01189021673053503\n",
            "epoch 978, loss 0.011858340352773666\n",
            "epoch 979, loss 0.01182642299681902\n",
            "epoch 980, loss 0.011795149184763432\n",
            "epoch 981, loss 0.011764230206608772\n",
            "epoch 982, loss 0.011732750572264194\n",
            "epoch 983, loss 0.011701241135597229\n",
            "epoch 984, loss 0.011670384556055069\n",
            "epoch 985, loss 0.011639059521257877\n",
            "epoch 986, loss 0.011607813648879528\n",
            "epoch 987, loss 0.011577182449400425\n",
            "epoch 988, loss 0.011546970345079899\n",
            "epoch 989, loss 0.011516948230564594\n",
            "epoch 990, loss 0.011486352421343327\n",
            "epoch 991, loss 0.011455689556896687\n",
            "epoch 992, loss 0.01142561249434948\n",
            "epoch 993, loss 0.011395090259611607\n",
            "epoch 994, loss 0.011364666745066643\n",
            "epoch 995, loss 0.011334811337292194\n",
            "epoch 996, loss 0.011305343359708786\n",
            "epoch 997, loss 0.01127608586102724\n",
            "epoch 998, loss 0.011246285401284695\n",
            "epoch 999, loss 0.011216375976800919\n"
          ]
        }
      ],
      "source": [
        "n_epochs=1000\n",
        "loss_list=[]\n",
        "\n",
        "#n_epochs\n",
        "for epoch in range(n_epochs):\n",
        "    for x, y in train_loader:\n",
        "      \n",
        "\n",
        "        optimizer.zero_grad()\n",
        "        y_hat = model(x.float())\n",
        "        loss = criterion(y_hat,y)\n",
        "        loss.backward()\n",
        "        optimizer.step()\n",
        "        \n",
        "        loss_list.append(loss.data)\n",
        "        \n",
        "        \n",
        "    print('epoch {}, loss {}'.format(epoch, loss.item()))"
      ]
    },
    {
      "cell_type": "code",
      "execution_count": 51,
      "metadata": {
        "colab": {
          "base_uri": "https://localhost:8080/"
        },
        "id": "sXpoEgK-RDoR",
        "outputId": "d6920a9c-deb6-4b2c-b0db-11312fb97ba7"
      },
      "outputs": [
        {
          "data": {
            "text/plain": [
              "array([2, 1, 2, 1, 2, 1, 1, 2, 1, 1, 0, 2, 0, 1, 0, 0])"
            ]
          },
          "execution_count": 51,
          "metadata": {},
          "output_type": "execute_result"
        }
      ],
      "source": []
    },
    {
      "cell_type": "code",
      "execution_count": 55,
      "metadata": {
        "colab": {
          "base_uri": "https://localhost:8080/"
        },
        "id": "S0H_oRJIRTth",
        "outputId": "4448631a-a2dd-4a37-e598-3afef80826e3"
      },
      "outputs": [
        {
          "data": {
            "text/plain": [
              "NeuralNetwork(\n",
              "  (fc1): Linear(in_features=4, out_features=5, bias=True)\n",
              "  (ha): ReLU()\n",
              "  (fc2): Linear(in_features=5, out_features=3, bias=True)\n",
              ")"
            ]
          },
          "execution_count": 55,
          "metadata": {},
          "output_type": "execute_result"
        }
      ],
      "source": [
        "model.eval()"
      ]
    },
    {
      "cell_type": "code",
      "execution_count": 57,
      "metadata": {
        "id": "RkGXmudfSpqk"
      },
      "outputs": [],
      "source": [
        "y_hat = model(torch.from_numpy(X_train).float())\n",
        "y_ = torch.argmax(y_hat.data,1).numpy()"
      ]
    },
    {
      "cell_type": "code",
      "execution_count": 60,
      "metadata": {
        "colab": {
          "base_uri": "https://localhost:8080/"
        },
        "id": "duMlWLSmZYyT",
        "outputId": "68a72ddd-9958-4be6-d356-59ee7e81bafc"
      },
      "outputs": [
        {
          "data": {
            "text/plain": [
              "array([[32,  0,  0],\n",
              "       [ 0, 29,  1],\n",
              "       [ 0,  0, 34]])"
            ]
          },
          "execution_count": 60,
          "metadata": {},
          "output_type": "execute_result"
        }
      ],
      "source": []
    },
    {
      "cell_type": "code",
      "execution_count": null,
      "metadata": {
        "id": "XgcinoT7Zioo"
      },
      "outputs": [],
      "source": []
    },
    {
      "cell_type": "code",
      "execution_count": null,
      "metadata": {
        "id": "fP6c_ptiZie6"
      },
      "outputs": [],
      "source": []
    },
    {
      "cell_type": "code",
      "execution_count": null,
      "metadata": {
        "id": "vxIFfIg755fs"
      },
      "outputs": [],
      "source": [
        "#@title Forma \"elegante\" para mostrar a evolução do treinamento.\n",
        "\n",
        "epochs = 50\n",
        "for e in tqdm(range(1, epochs+1)):\n",
        "  \n",
        "  y_hat = np.array([])\n",
        "\n",
        "  train_epoch_loss = 0\n",
        "  train_epoch_acc = 0\n",
        "  model.train()\n",
        "  for X_train_batch, y_train_batch in train_loader:\n",
        "      X, y = X_train_batch.to(device), y_train_batch.to(device)\n",
        "      optimizer.zero_grad()\n",
        "      \n",
        "      y_pred = model(X)\n",
        "      \n",
        "      loss = criterion(y_pred, y)\n",
        "      acc = accuracy(y_pred, y)\n",
        "      \n",
        "      loss.backward()\n",
        "      optimizer.step()\n",
        "      \n",
        "      train_epoch_loss += loss.item()\n",
        "      train_epoch_acc += acc.item()\n",
        "      y_p = torch.argmax(y_pred, dim=1)\n",
        "      y_hat = np.concatenate((y_hat, y_p))\n",
        "  \n",
        "  _, val_loss, val_acc = evaluate(model, val_loader, criterion, device, binary=binary)\n",
        "\n",
        "  history['acc_train'].append(train_epoch_acc)\n",
        "  history['loss_train'].append(train_epoch_loss)\n",
        "  history['acc_val'].append(val_acc)\n",
        "  history['loss_val'].append(val_loss)\n",
        "  \n",
        "  print(f'Epoch {e+0:03}: | Train Loss: {train_epoch_loss/len(train_loader):.3f} | Val Loss: {val_loss/len(val_loader):.4f} | Train Acc: {train_epoch_acc/len(train_loader):.4f}| Val Acc: {val_acc/len(val_loader):.4f}')\n"
      ]
    },
    {
      "cell_type": "code",
      "execution_count": null,
      "metadata": {
        "id": "7Ktv5UUX55c_"
      },
      "outputs": [],
      "source": []
    },
    {
      "cell_type": "code",
      "execution_count": null,
      "metadata": {
        "id": "_fyYxJN355aH"
      },
      "outputs": [],
      "source": []
    },
    {
      "cell_type": "code",
      "execution_count": null,
      "metadata": {
        "id": "O3xF0sUO55XN"
      },
      "outputs": [],
      "source": []
    },
    {
      "cell_type": "code",
      "execution_count": null,
      "metadata": {
        "id": "wS_5fiEU55UM"
      },
      "outputs": [],
      "source": []
    },
    {
      "cell_type": "code",
      "execution_count": null,
      "metadata": {
        "id": "64PhZZLA5suw"
      },
      "outputs": [],
      "source": [
        "import tensorflow as tf\n",
        "\n",
        "from tensorflow.keras.models import Sequential\n",
        "from tensorflow.keras.layers import Dense\n",
        "from sklearn.model_selection import cross_val_score\n",
        "from sklearn.model_selection import KFold\n",
        "from tensorflow.keras.optimizers import Adam\n",
        "\n",
        "from sklearn.preprocessing import LabelEncoder\n",
        "from sklearn.metrics import classification_report, confusion_matrix\n",
        "\n",
        "from tensorflow.keras.datasets import mnist\n",
        "\n",
        "from tensorflow.keras.utils import to_categorical\n",
        "\n",
        "import seaborn as sns \n"
      ]
    },
    {
      "cell_type": "code",
      "execution_count": null,
      "metadata": {
        "id": "OV6PcD2W5suw"
      },
      "outputs": [],
      "source": [
        "(x_train, y_train), (x_test, y_test) = mnist.load_data(path=\"mnist.npz\")\n",
        "\n",
        "flatten_x_train = x_train.reshape(-1,28*28)\n",
        "flatten_x_test = x_test.reshape(-1,28*28)\n",
        "\n",
        "norm_x_train = flatten_x_train/255.0\n",
        "norm_x_test = flatten_x_test/255.0"
      ]
    },
    {
      "cell_type": "code",
      "execution_count": null,
      "metadata": {
        "id": "nNUwZ8Sn5suw"
      },
      "outputs": [],
      "source": [
        "encoder = LabelEncoder()\n",
        "encoder.fit(y_train)\n",
        "encoded_Yt = encoder.transform(y_train)\n",
        "\n",
        "encoded_Ytst = encoder.transform(y_test)\n",
        "\n",
        "encoded_y_train = to_categorical(encoded_Yt)\n",
        "encoded_y_test = to_categorical(encoded_Ytst)"
      ]
    },
    {
      "cell_type": "code",
      "execution_count": null,
      "metadata": {
        "id": "mXHub_uA5sux"
      },
      "outputs": [],
      "source": [
        "n_input = flatten_x_train.shape[1]\n",
        "n_output = encoded_y_train.shape[1]"
      ]
    },
    {
      "cell_type": "code",
      "execution_count": null,
      "metadata": {
        "id": "pogJtJR55sux"
      },
      "outputs": [],
      "source": [
        "def create_model(hidden_neurons = [4], hidden_activation = ['relu'], output_activation='softmax',lr=0.05):\n",
        "    # create model\n",
        "    model = Sequential()\n",
        "    model.add(Dense(hidden_neurons[0], input_dim=n_input, activation='relu'))\n",
        "    for i in range(1,len(hidden_neurons)):\n",
        "        model.add(Dense(hidden_neurons[i], input_dim=hidden_neurons[i-1], activation='relu'))\n",
        "        \n",
        "\n",
        "    model.add(Dense(n_output, activation=output_activation))\n",
        "    # Compile model\n",
        "    opt = Adam(lr=lr)\n",
        "    model.compile(\n",
        "                    optimizer=tf.keras.optimizers.Adam(0.001),\n",
        "                    loss=tf.keras.losses.CategoricalCrossentropy(),\n",
        "                    metrics=[tf.keras.metrics.CategoricalAccuracy()])\n",
        "    return model"
      ]
    },
    {
      "cell_type": "code",
      "execution_count": null,
      "metadata": {
        "id": "Tfx1dHPM5sux"
      },
      "outputs": [],
      "source": [
        "model = create_model(hidden_neurons=[80],lr=0.1)"
      ]
    },
    {
      "cell_type": "code",
      "execution_count": null,
      "metadata": {
        "id": "XrxoFPRJ5sux",
        "outputId": "33887cf1-f68b-4fd7-ac17-bb16f70b2b36"
      },
      "outputs": [
        {
          "name": "stdout",
          "output_type": "stream",
          "text": [
            "Model: \"sequential\"\n",
            "_________________________________________________________________\n",
            "Layer (type)                 Output Shape              Param #   \n",
            "=================================================================\n",
            "dense (Dense)                (None, 80)                62800     \n",
            "_________________________________________________________________\n",
            "dense_1 (Dense)              (None, 10)                810       \n",
            "=================================================================\n",
            "Total params: 63,610\n",
            "Trainable params: 63,610\n",
            "Non-trainable params: 0\n",
            "_________________________________________________________________\n"
          ]
        }
      ],
      "source": [
        "model.summary()"
      ]
    },
    {
      "cell_type": "code",
      "execution_count": null,
      "metadata": {
        "id": "ef-lfvdD5sux",
        "outputId": "7de4949f-8eef-487e-de4f-4bdca06f1dab"
      },
      "outputs": [
        {
          "name": "stdout",
          "output_type": "stream",
          "text": [
            "Epoch 1/60\n",
            "1500/1500 [==============================] - 1s 774us/step - loss: 0.3212 - categorical_accuracy: 0.9110 - val_loss: 0.1830 - val_categorical_accuracy: 0.9463\n",
            "Epoch 2/60\n",
            "1500/1500 [==============================] - 1s 695us/step - loss: 0.1567 - categorical_accuracy: 0.9538 - val_loss: 0.1420 - val_categorical_accuracy: 0.9587\n",
            "Epoch 3/60\n",
            "1500/1500 [==============================] - 1s 674us/step - loss: 0.1109 - categorical_accuracy: 0.9671 - val_loss: 0.1181 - val_categorical_accuracy: 0.9663\n",
            "Epoch 4/60\n",
            "1500/1500 [==============================] - 1s 674us/step - loss: 0.0849 - categorical_accuracy: 0.9753 - val_loss: 0.1099 - val_categorical_accuracy: 0.9673\n",
            "Epoch 5/60\n",
            "1500/1500 [==============================] - 1s 674us/step - loss: 0.0685 - categorical_accuracy: 0.9794 - val_loss: 0.1075 - val_categorical_accuracy: 0.9678\n",
            "Epoch 6/60\n",
            "1500/1500 [==============================] - 1s 669us/step - loss: 0.0555 - categorical_accuracy: 0.9827 - val_loss: 0.0959 - val_categorical_accuracy: 0.9731\n",
            "Epoch 7/60\n",
            "1500/1500 [==============================] - 1s 672us/step - loss: 0.0467 - categorical_accuracy: 0.9866 - val_loss: 0.1036 - val_categorical_accuracy: 0.9701\n",
            "Epoch 8/60\n",
            "1500/1500 [==============================] - 1s 687us/step - loss: 0.0390 - categorical_accuracy: 0.9878 - val_loss: 0.1012 - val_categorical_accuracy: 0.9709\n",
            "Epoch 9/60\n",
            "1500/1500 [==============================] - 1s 697us/step - loss: 0.0329 - categorical_accuracy: 0.9900 - val_loss: 0.0995 - val_categorical_accuracy: 0.9695\n",
            "Epoch 10/60\n",
            "1500/1500 [==============================] - 1s 689us/step - loss: 0.0274 - categorical_accuracy: 0.9921 - val_loss: 0.0961 - val_categorical_accuracy: 0.9728\n",
            "Epoch 11/60\n",
            "1500/1500 [==============================] - 1s 668us/step - loss: 0.0244 - categorical_accuracy: 0.9930 - val_loss: 0.1041 - val_categorical_accuracy: 0.9716\n",
            "Epoch 12/60\n",
            "1500/1500 [==============================] - 1s 677us/step - loss: 0.0207 - categorical_accuracy: 0.9938 - val_loss: 0.1057 - val_categorical_accuracy: 0.9704\n",
            "Epoch 13/60\n",
            "1500/1500 [==============================] - 1s 671us/step - loss: 0.0182 - categorical_accuracy: 0.9947 - val_loss: 0.1055 - val_categorical_accuracy: 0.9721\n",
            "Epoch 14/60\n",
            "1500/1500 [==============================] - 1s 699us/step - loss: 0.0153 - categorical_accuracy: 0.9958 - val_loss: 0.1116 - val_categorical_accuracy: 0.9729\n",
            "Epoch 15/60\n",
            "1500/1500 [==============================] - 1s 677us/step - loss: 0.0132 - categorical_accuracy: 0.9961 - val_loss: 0.1086 - val_categorical_accuracy: 0.9743\n",
            "Epoch 16/60\n",
            "1500/1500 [==============================] - 1s 675us/step - loss: 0.0114 - categorical_accuracy: 0.9967 - val_loss: 0.1130 - val_categorical_accuracy: 0.9716\n",
            "Epoch 17/60\n",
            "1500/1500 [==============================] - 1s 689us/step - loss: 0.0114 - categorical_accuracy: 0.9966 - val_loss: 0.1095 - val_categorical_accuracy: 0.9740\n",
            "Epoch 18/60\n",
            "1500/1500 [==============================] - 1s 676us/step - loss: 0.0097 - categorical_accuracy: 0.9970 - val_loss: 0.1146 - val_categorical_accuracy: 0.9736\n",
            "Epoch 19/60\n",
            "1500/1500 [==============================] - 1s 674us/step - loss: 0.0088 - categorical_accuracy: 0.9975 - val_loss: 0.1067 - val_categorical_accuracy: 0.9747\n",
            "Epoch 20/60\n",
            "1500/1500 [==============================] - 1s 675us/step - loss: 0.0075 - categorical_accuracy: 0.9978 - val_loss: 0.1151 - val_categorical_accuracy: 0.9744\n",
            "Epoch 21/60\n",
            "1500/1500 [==============================] - 1s 681us/step - loss: 0.0072 - categorical_accuracy: 0.9979 - val_loss: 0.1253 - val_categorical_accuracy: 0.9736\n",
            "Epoch 22/60\n",
            "1500/1500 [==============================] - 1s 679us/step - loss: 0.0069 - categorical_accuracy: 0.9980 - val_loss: 0.1198 - val_categorical_accuracy: 0.9758\n",
            "Epoch 23/60\n",
            "1500/1500 [==============================] - 1s 678us/step - loss: 0.0052 - categorical_accuracy: 0.9986 - val_loss: 0.1262 - val_categorical_accuracy: 0.9742\n",
            "Epoch 24/60\n",
            "1500/1500 [==============================] - 1s 675us/step - loss: 0.0061 - categorical_accuracy: 0.9982 - val_loss: 0.1416 - val_categorical_accuracy: 0.9714\n",
            "Epoch 25/60\n",
            "1500/1500 [==============================] - 1s 681us/step - loss: 0.0038 - categorical_accuracy: 0.9990 - val_loss: 0.1456 - val_categorical_accuracy: 0.9723\n",
            "Epoch 26/60\n",
            "1500/1500 [==============================] - 1s 685us/step - loss: 0.0063 - categorical_accuracy: 0.9981 - val_loss: 0.1331 - val_categorical_accuracy: 0.9739\n",
            "Epoch 27/60\n",
            "1500/1500 [==============================] - 1s 679us/step - loss: 0.0057 - categorical_accuracy: 0.9983 - val_loss: 0.1440 - val_categorical_accuracy: 0.9729\n",
            "Epoch 28/60\n",
            "1500/1500 [==============================] - 1s 669us/step - loss: 0.0030 - categorical_accuracy: 0.9993 - val_loss: 0.1581 - val_categorical_accuracy: 0.9722\n",
            "Epoch 29/60\n",
            "1500/1500 [==============================] - 1s 675us/step - loss: 0.0052 - categorical_accuracy: 0.9985 - val_loss: 0.1458 - val_categorical_accuracy: 0.9728\n",
            "Epoch 30/60\n",
            "1500/1500 [==============================] - 1s 669us/step - loss: 0.0051 - categorical_accuracy: 0.9985 - val_loss: 0.1548 - val_categorical_accuracy: 0.9722\n",
            "Epoch 31/60\n",
            "1500/1500 [==============================] - 1s 670us/step - loss: 0.0051 - categorical_accuracy: 0.9984 - val_loss: 0.1776 - val_categorical_accuracy: 0.9707\n",
            "Epoch 32/60\n",
            "1500/1500 [==============================] - 1s 689us/step - loss: 0.0020 - categorical_accuracy: 0.9996 - val_loss: 0.1405 - val_categorical_accuracy: 0.9757\n",
            "Epoch 33/60\n",
            "1500/1500 [==============================] - 1s 673us/step - loss: 0.0014 - categorical_accuracy: 0.9997 - val_loss: 0.2092 - val_categorical_accuracy: 0.9682\n",
            "Epoch 34/60\n",
            "1500/1500 [==============================] - 1s 670us/step - loss: 0.0071 - categorical_accuracy: 0.9977 - val_loss: 0.1501 - val_categorical_accuracy: 0.9731\n",
            "Epoch 35/60\n",
            "1500/1500 [==============================] - 1s 669us/step - loss: 0.0034 - categorical_accuracy: 0.9990 - val_loss: 0.1575 - val_categorical_accuracy: 0.9730\n",
            "Epoch 36/60\n",
            "1500/1500 [==============================] - 1s 671us/step - loss: 0.0032 - categorical_accuracy: 0.9990 - val_loss: 0.1832 - val_categorical_accuracy: 0.9703\n",
            "Epoch 37/60\n",
            "1500/1500 [==============================] - 1s 675us/step - loss: 0.0043 - categorical_accuracy: 0.9987 - val_loss: 0.1704 - val_categorical_accuracy: 0.9722\n",
            "Epoch 38/60\n",
            "1500/1500 [==============================] - 1s 668us/step - loss: 0.0028 - categorical_accuracy: 0.9991 - val_loss: 0.1537 - val_categorical_accuracy: 0.9747\n",
            "Epoch 39/60\n",
            "1500/1500 [==============================] - 1s 679us/step - loss: 0.0028 - categorical_accuracy: 0.9992 - val_loss: 0.1779 - val_categorical_accuracy: 0.9701\n",
            "Epoch 40/60\n",
            "1500/1500 [==============================] - 1s 677us/step - loss: 0.0052 - categorical_accuracy: 0.9980 - val_loss: 0.1742 - val_categorical_accuracy: 0.9743\n",
            "Epoch 41/60\n",
            "1500/1500 [==============================] - 1s 685us/step - loss: 0.0026 - categorical_accuracy: 0.9993 - val_loss: 0.1848 - val_categorical_accuracy: 0.9722\n",
            "Epoch 42/60\n",
            "1500/1500 [==============================] - 1s 694us/step - loss: 0.0040 - categorical_accuracy: 0.9989 - val_loss: 0.1745 - val_categorical_accuracy: 0.9730\n",
            "Epoch 43/60\n",
            "1500/1500 [==============================] - 1s 679us/step - loss: 0.0015 - categorical_accuracy: 0.9996 - val_loss: 0.1626 - val_categorical_accuracy: 0.9743\n",
            "Epoch 44/60\n",
            "1500/1500 [==============================] - 1s 707us/step - loss: 0.0031 - categorical_accuracy: 0.9990 - val_loss: 0.1822 - val_categorical_accuracy: 0.9719\n",
            "Epoch 45/60\n",
            "1500/1500 [==============================] - 1s 702us/step - loss: 0.0027 - categorical_accuracy: 0.9990 - val_loss: 0.1968 - val_categorical_accuracy: 0.9718\n",
            "Epoch 46/60\n",
            "1500/1500 [==============================] - 1s 705us/step - loss: 0.0055 - categorical_accuracy: 0.9982 - val_loss: 0.1844 - val_categorical_accuracy: 0.9741\n",
            "Epoch 47/60\n",
            "1500/1500 [==============================] - 1s 673us/step - loss: 0.0025 - categorical_accuracy: 0.9991 - val_loss: 0.1690 - val_categorical_accuracy: 0.9753\n",
            "Epoch 48/60\n",
            "1500/1500 [==============================] - 1s 674us/step - loss: 0.0024 - categorical_accuracy: 0.9993 - val_loss: 0.1775 - val_categorical_accuracy: 0.9733\n"
          ]
        },
        {
          "name": "stdout",
          "output_type": "stream",
          "text": [
            "Epoch 49/60\n",
            "1500/1500 [==============================] - 1s 676us/step - loss: 0.0025 - categorical_accuracy: 0.9993 - val_loss: 0.1747 - val_categorical_accuracy: 0.9749\n",
            "Epoch 50/60\n",
            "1500/1500 [==============================] - 1s 677us/step - loss: 0.0024 - categorical_accuracy: 0.9993 - val_loss: 0.1810 - val_categorical_accuracy: 0.9748\n",
            "Epoch 51/60\n",
            "1500/1500 [==============================] - 1s 673us/step - loss: 0.0018 - categorical_accuracy: 0.9995 - val_loss: 0.1995 - val_categorical_accuracy: 0.9725\n",
            "Epoch 52/60\n",
            "1500/1500 [==============================] - 1s 674us/step - loss: 0.0036 - categorical_accuracy: 0.9987 - val_loss: 0.2117 - val_categorical_accuracy: 0.9709\n",
            "Epoch 53/60\n",
            "1500/1500 [==============================] - 1s 679us/step - loss: 0.0020 - categorical_accuracy: 0.9994 - val_loss: 0.1806 - val_categorical_accuracy: 0.9747\n",
            "Epoch 54/60\n",
            "1500/1500 [==============================] - 1s 669us/step - loss: 1.2107e-04 - categorical_accuracy: 1.0000 - val_loss: 0.1712 - val_categorical_accuracy: 0.9759\n",
            "Epoch 55/60\n",
            "1500/1500 [==============================] - 1s 673us/step - loss: 5.1913e-05 - categorical_accuracy: 1.0000 - val_loss: 0.1730 - val_categorical_accuracy: 0.9763\n",
            "Epoch 56/60\n",
            "1500/1500 [==============================] - 1s 675us/step - loss: 4.0502e-05 - categorical_accuracy: 1.0000 - val_loss: 0.1755 - val_categorical_accuracy: 0.9764\n",
            "Epoch 57/60\n",
            "1500/1500 [==============================] - 1s 664us/step - loss: 0.0080 - categorical_accuracy: 0.9979 - val_loss: 0.1846 - val_categorical_accuracy: 0.9737\n",
            "Epoch 58/60\n",
            "1500/1500 [==============================] - 1s 667us/step - loss: 0.0026 - categorical_accuracy: 0.9991 - val_loss: 0.1886 - val_categorical_accuracy: 0.9739\n",
            "Epoch 59/60\n",
            "1500/1500 [==============================] - 1s 670us/step - loss: 0.0018 - categorical_accuracy: 0.9993 - val_loss: 0.1967 - val_categorical_accuracy: 0.9733\n",
            "Epoch 60/60\n",
            "1500/1500 [==============================] - 1s 667us/step - loss: 7.0714e-04 - categorical_accuracy: 0.9999 - val_loss: 0.1933 - val_categorical_accuracy: 0.9739\n"
          ]
        },
        {
          "data": {
            "text/plain": [
              "<tensorflow.python.keras.callbacks.History at 0x1e81f67c9a0>"
            ]
          },
          "execution_count": 20,
          "metadata": {},
          "output_type": "execute_result"
        }
      ],
      "source": [
        "model.fit(x=norm_x_train,y=encoded_y_train,epochs=60,validation_split=0.2)"
      ]
    },
    {
      "cell_type": "code",
      "execution_count": null,
      "metadata": {
        "id": "48pzLH-E5sux",
        "outputId": "fa9fb892-8939-45d4-f542-8344bb5dcb70"
      },
      "outputs": [
        {
          "name": "stdout",
          "output_type": "stream",
          "text": [
            "Confusion Matrix\n",
            "[[ 964    0    5    1    0    0    5    1    4    0]\n",
            " [   0 1122    4    2    0    0    3    1    3    0]\n",
            " [   3    1 1004    4    2    0    3    3   12    0]\n",
            " [   0    0    4  995    0    3    0    2    2    4]\n",
            " [   3    0    4    1  948    0    5    5    1   15]\n",
            " [   2    1    1   15    2  859    6    0    4    2]\n",
            " [   4    4    3    1    3    3  940    0    0    0]\n",
            " [   1    4   11    5    1    0    0  985   13    8]\n",
            " [   1    0    7    9    5    1    2    2  943    4]\n",
            " [   4    4    0   10    4    3    0    2    2  980]]\n",
            "Classification Report\n",
            "              precision    recall  f1-score   support\n",
            "\n",
            "           0       0.98      0.98      0.98       980\n",
            "           1       0.99      0.99      0.99      1135\n",
            "           2       0.96      0.97      0.97      1032\n",
            "           3       0.95      0.99      0.97      1010\n",
            "           4       0.98      0.97      0.97       982\n",
            "           5       0.99      0.96      0.98       892\n",
            "           6       0.98      0.98      0.98       958\n",
            "           7       0.98      0.96      0.97      1028\n",
            "           8       0.96      0.97      0.96       974\n",
            "           9       0.97      0.97      0.97      1009\n",
            "\n",
            "    accuracy                           0.97     10000\n",
            "   macro avg       0.97      0.97      0.97     10000\n",
            "weighted avg       0.97      0.97      0.97     10000\n",
            "\n"
          ]
        }
      ],
      "source": [
        "Y_pred = model.predict(norm_x_test)\n",
        "y_pred = np.argmax(Y_pred, axis=1)\n",
        "print('Confusion Matrix')\n",
        "print(confusion_matrix(y_test, y_pred))\n",
        "cm = confusion_matrix(y_test, y_pred)\n",
        "print('Classification Report')\n",
        "target_names = ['0','1','2','3','4','5','6','7','8','9']\n",
        "print(classification_report(y_test, y_pred, target_names=target_names))"
      ]
    },
    {
      "cell_type": "code",
      "execution_count": null,
      "metadata": {
        "id": "8cWDjhVN5suy",
        "outputId": "56534261-1066-4acc-8be5-d5a87dc4e04f"
      },
      "outputs": [
        {
          "data": {
            "text/plain": [
              "Text(0.5, 123.0, 'Predicted')"
            ]
          },
          "execution_count": 22,
          "metadata": {},
          "output_type": "execute_result"
        },
        {
          "data": {
            "image/png": "[encoded data removed]",
            "text/plain": [
              "<Figure size 2160x1152 with 2 Axes>"
            ]
          },
          "metadata": {
            "needs_background": "light"
          },
          "output_type": "display_data"
        }
      ],
      "source": [
        "plt.figure(figsize=(30,16))\n",
        "cmn = cm.astype('float') / cm.sum(axis=1)[:, np.newaxis]\n",
        "sns.heatmap(cmn,annot=True)\n",
        "plt.ylabel('Actual')\n",
        "plt.xlabel('Predicted')"
      ]
    },
    {
      "cell_type": "code",
      "execution_count": null,
      "metadata": {
        "id": "--F1im4a5suy"
      },
      "outputs": [],
      "source": []
    }
  ],
  "metadata": {
    "colab": {
      "name": "RN_ex1.ipynb",
      "provenance": []
    },
    "kernelspec": {
      "display_name": "Python 3.10.4 64-bit",
      "language": "python",
      "name": "python3"
    },
    "language_info": {
      "codemirror_mode": {
        "name": "ipython",
        "version": 3
      },
      "file_extension": ".py",
      "mimetype": "text/x-python",
      "name": "python",
      "nbconvert_exporter": "python",
      "pygments_lexer": "ipython3",
      "version": "3.10.4"
    },
    "vscode": {
      "interpreter": {
        "hash": "d044c6e0ce06759120adefce77398d00e1228e64d92f3f185fbd024a7701b8e0"
      }
    }
  },
  "nbformat": 4,
  "nbformat_minor": 0
}
