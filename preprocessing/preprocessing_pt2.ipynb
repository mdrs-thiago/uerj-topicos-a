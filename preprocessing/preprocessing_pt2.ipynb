{
  "nbformat": 4,
  "nbformat_minor": 0,
  "metadata": {
    "colab": {
      "name": "Pre_processamento_2.ipynb",
      "provenance": [],
      "collapsed_sections": []
    },
    "kernelspec": {
      "name": "python3",
      "display_name": "Python 3"
    },
    "language_info": {
      "name": "python"
    }
  },
  "cells": [
    {
      "cell_type": "code",
      "metadata": {
        "id": "3Bl9D_mUi2e4"
      },
      "source": [
        "import numpy as np, pandas as pd \n",
        "\n",
        "import json\n",
        "import matplotlib.pyplot as plt \n",
        "import seaborn as sns \n",
        "\n",
        "from tensorflow.keras.models import Sequential\n",
        "from tensorflow.keras.layers import Dense\n",
        "from tensorflow.keras.optimizers import Adam\n",
        "from tensorflow.keras.utils import to_categorical\n",
        "\n",
        "from sklearn.model_selection import cross_val_score, KFold, train_test_split\n",
        "from sklearn.preprocessing import LabelEncoder\n",
        "from sklearn.metrics import classification_report, confusion_matrix\n",
        "\n",
        "from google.colab import drive"
      ],
      "execution_count": null,
      "outputs": []
    },
    {
      "cell_type": "code",
      "metadata": {
        "colab": {
          "base_uri": "https://localhost:8080/"
        },
        "id": "TpLl1UXfi6np",
        "outputId": "3a11af78-c8b0-44c2-dbab-fd8ba034a16e"
      },
      "source": [
        "drive.mount('/content/drive')"
      ],
      "execution_count": null,
      "outputs": [
        {
          "output_type": "stream",
          "text": [
            "Drive already mounted at /content/drive; to attempt to forcibly remount, call drive.mount(\"/content/drive\", force_remount=True).\n"
          ],
          "name": "stdout"
        }
      ]
    },
    {
      "cell_type": "code",
      "metadata": {
        "id": "CeT8Zx3Vi_cn"
      },
      "source": [
        "def piecewise_norm(vec,val,n):\n",
        "    assert val > min(vec)\n",
        "    \n",
        "    return np.where(vec < val, n*(vec - min(vec))/(val - min(vec)), (1-n)*(vec - val)/(max(vec) - val) + n)\n",
        "\n",
        "\n",
        "def transform_data(dataset,dataset_columns,normalize=True):\n",
        "    new_df = pd.DataFrame()\n",
        "    for name in dataset.columns:\n",
        "        if name in dataset_columns.keys():\n",
        "            \n",
        "            if dataset_columns[name] == 'categorical':\n",
        "                raw_data = dataset[name].values\n",
        "                d_encoder = LabelEncoder()\n",
        "                d_encoder.fit(raw_data)\n",
        "                d_encoded = d_encoder.transform(raw_data)\n",
        "                dummy_y = to_categorical(d_encoded)\n",
        "                #print(dummy_y.shape)\n",
        "                \n",
        "                for (j,k) in enumerate(d_encoder.classes_):\n",
        "                    new_df[f'{name}_{k}'] = dummy_y[:,j].astype('int')\n",
        "            \n",
        "            \n",
        "            elif dataset_columns[name] == 'numeric':\n",
        "                raw_data = dataset[name].values\n",
        "                if normalize:\n",
        "                    new_df[name] = (raw_data - min(raw_data))/(max(raw_data) - min(raw_data))\n",
        "                else:\n",
        "                    new_df[name] = raw_data\n",
        "                \n",
        "            elif dataset_columns[name] == 'original':\n",
        "                new_df[name] = dataset[name].values\n",
        "            \n",
        "            elif dataset_columns[name] == 'target':\n",
        "                new_df[name] = dataset[name].values\n",
        "                \n",
        "    return new_df"
      ],
      "execution_count": null,
      "outputs": []
    },
    {
      "cell_type": "code",
      "metadata": {
        "id": "T-aZ5H1gljrV"
      },
      "source": [
        "class NeuralNetwork():\n",
        "\n",
        "  def __init__(self,hidden_neurons = [4], hidden_activation = ['relu'], output_activation='softmax', lr = 0.05, n_input = 1, n_output = 1):\n",
        "    # create model\n",
        "    self.model = Sequential()\n",
        "    self.model.add(Dense(hidden_neurons[0], input_dim=n_input, activation='relu'))\n",
        "    for i in range(1,len(hidden_neurons)):\n",
        "      self.model.add(Dense(hidden_neurons[i], input_dim=hidden_neurons[i-1], activation='relu'))\n",
        "          \n",
        "\n",
        "    self.model.add(Dense(n_output, activation=output_activation))\n",
        "    # Compile model\n",
        "    opt = Adam(lr=lr)\n",
        "    self.model.compile(loss='binary_crossentropy', optimizer=opt, metrics=['accuracy'])\n",
        "      \n",
        "  def train(self, X, y, epochs=10, verbose = 0):\n",
        "    #callback = EarlyStopping(monitor='loss', patience=5)\n",
        "    self.model.fit(x=X,y=y,epochs=epochs, verbose=verbose)\n",
        "\n",
        "  def predict(self, X, y):\n",
        "    raw_Y_pred = self.model.predict(X)\n",
        "    y_pred = np.where(raw_Y_pred > 0.5, 1, 0)\n",
        "    print('Confusion Matrix')\n",
        "    print(confusion_matrix(y, y_pred))\n",
        "    cm = confusion_matrix(y, y_pred)\n",
        "    print('Classification Report')\n",
        "    target_names = ['0','1']\n",
        "    print(classification_report(y, y_pred))"
      ],
      "execution_count": null,
      "outputs": []
    },
    {
      "cell_type": "code",
      "metadata": {
        "id": "dhmH_bXym05H"
      },
      "source": [
        ""
      ],
      "execution_count": null,
      "outputs": []
    },
    {
      "cell_type": "markdown",
      "source": [
        "## Carregando a base de dados"
      ],
      "metadata": {
        "id": "VurQRVefDY2K"
      }
    },
    {
      "cell_type": "code",
      "metadata": {
        "id": "QJ6-3YBHnDN6"
      },
      "source": [
        "\n"
      ],
      "execution_count": null,
      "outputs": []
    },
    {
      "cell_type": "markdown",
      "source": [
        "## Codificação de variáveis categóricas"
      ],
      "metadata": {
        "id": "ZCSxZXwZDjE3"
      }
    },
    {
      "cell_type": "code",
      "source": [
        ""
      ],
      "metadata": {
        "id": "j-NqVw9nDivN"
      },
      "execution_count": null,
      "outputs": []
    },
    {
      "cell_type": "code",
      "source": [
        ""
      ],
      "metadata": {
        "id": "mHKONDIBDimH"
      },
      "execution_count": null,
      "outputs": []
    },
    {
      "cell_type": "code",
      "source": [
        ""
      ],
      "metadata": {
        "id": "Nxtjs4orDiiu"
      },
      "execution_count": 1,
      "outputs": []
    },
    {
      "cell_type": "markdown",
      "source": [
        "## Normalização de variáveis numéricas"
      ],
      "metadata": {
        "id": "3syfKPc4E27J"
      }
    },
    {
      "cell_type": "code",
      "source": [
        ""
      ],
      "metadata": {
        "id": "ftZX0JKGFBk7"
      },
      "execution_count": null,
      "outputs": []
    },
    {
      "cell_type": "code",
      "source": [
        ""
      ],
      "metadata": {
        "id": "-AvpcRicFBhc"
      },
      "execution_count": null,
      "outputs": []
    },
    {
      "cell_type": "code",
      "source": [
        ""
      ],
      "metadata": {
        "id": "evqhTT07FBfj"
      },
      "execution_count": null,
      "outputs": []
    },
    {
      "cell_type": "code",
      "metadata": {
        "colab": {
          "base_uri": "https://localhost:8080/"
        },
        "id": "TStmhhA-nENH",
        "outputId": "471cb437-53a1-4141-aacc-046a06bc85cd"
      },
      "source": [
        "hidden_neurons = [15]\n",
        "activation_layers = ['relu']\n",
        "\n",
        "output_activation = 'sigmoid'\n",
        "\n",
        "lr = 0.05\n",
        "epochs = 50\n",
        "\n",
        "model = NeuralNetwork(hidden_neurons=hidden_neurons,output_activation=output_activation,n_input=n_input,n_output=n_output, lr = lr)"
      ],
      "execution_count": null,
      "outputs": [
        {
          "output_type": "stream",
          "text": [
            "/usr/local/lib/python3.7/dist-packages/keras/optimizer_v2/optimizer_v2.py:356: UserWarning: The `lr` argument is deprecated, use `learning_rate` instead.\n",
            "  \"The `lr` argument is deprecated, use `learning_rate` instead.\")\n"
          ],
          "name": "stderr"
        }
      ]
    },
    {
      "cell_type": "code",
      "metadata": {
        "id": "Ao-ZcbkfnEPn"
      },
      "source": [
        "model.train(X=x_train,y=y_train,epochs=epochs)"
      ],
      "execution_count": null,
      "outputs": []
    },
    {
      "cell_type": "code",
      "metadata": {
        "colab": {
          "base_uri": "https://localhost:8080/"
        },
        "id": "jRSxQT0nnETX",
        "outputId": "c6967d74-9735-42ea-dfa9-a95aa41e7acf"
      },
      "source": [
        "model.predict(x_test, y_test)"
      ],
      "execution_count": null,
      "outputs": [
        {
          "output_type": "stream",
          "text": [
            "Confusion Matrix\n",
            "[[71 28]\n",
            " [16 39]]\n",
            "Classification Report\n",
            "              precision    recall  f1-score   support\n",
            "\n",
            "           0       0.82      0.72      0.76        99\n",
            "           1       0.58      0.71      0.64        55\n",
            "\n",
            "    accuracy                           0.71       154\n",
            "   macro avg       0.70      0.71      0.70       154\n",
            "weighted avg       0.73      0.71      0.72       154\n",
            "\n"
          ],
          "name": "stdout"
        }
      ]
    },
    {
      "cell_type": "code",
      "metadata": {
        "id": "AN32mNytnEZO"
      },
      "source": [
        ""
      ],
      "execution_count": null,
      "outputs": []
    },
    {
      "cell_type": "code",
      "metadata": {
        "id": "HAquV04rnEeI"
      },
      "source": [
        ""
      ],
      "execution_count": null,
      "outputs": []
    },
    {
      "cell_type": "code",
      "metadata": {
        "id": "llKOJvTbnEhC"
      },
      "source": [
        ""
      ],
      "execution_count": null,
      "outputs": []
    },
    {
      "cell_type": "code",
      "metadata": {
        "id": "umsW-P__pNjP"
      },
      "source": [
        ""
      ],
      "execution_count": null,
      "outputs": []
    },
    {
      "cell_type": "code",
      "metadata": {
        "id": "5bHrSB4OpOoZ"
      },
      "source": [
        ""
      ],
      "execution_count": null,
      "outputs": []
    },
    {
      "cell_type": "code",
      "metadata": {
        "id": "Fmd8fSiZpOlj"
      },
      "source": [
        ""
      ],
      "execution_count": null,
      "outputs": []
    },
    {
      "cell_type": "code",
      "metadata": {
        "id": "aOjZuoMnpOhs"
      },
      "source": [
        ""
      ],
      "execution_count": null,
      "outputs": []
    },
    {
      "cell_type": "code",
      "metadata": {
        "id": "ZQNX03-jpeFh"
      },
      "source": [
        ""
      ],
      "execution_count": null,
      "outputs": []
    },
    {
      "cell_type": "markdown",
      "source": [
        "# Seleção de variáveis"
      ],
      "metadata": {
        "id": "A0rTCXq3FJ6o"
      }
    },
    {
      "cell_type": "markdown",
      "metadata": {
        "id": "5wB6Zv3MqKLS"
      },
      "source": [
        "## Usando RFE"
      ]
    },
    {
      "cell_type": "code",
      "metadata": {
        "id": "fNDAeD8pqJZf"
      },
      "source": [
        "from sklearn.ensemble import RandomForestClassifier\n",
        "from sklearn.feature_selection import RFE, SelectKBest, chi2"
      ],
      "execution_count": null,
      "outputs": []
    },
    {
      "cell_type": "code",
      "metadata": {
        "colab": {
          "base_uri": "https://localhost:8080/"
        },
        "id": "sRrKDevypOWK",
        "outputId": "e81b9056-43a9-440f-9e1d-79adf9e1c83b"
      },
      "source": [
        "model = RandomForestClassifier()\n",
        "\n",
        "rfe = RFE(model, 3)\n",
        "fit = rfe.fit(X_train, y_train)\n",
        "\n",
        "names = [name for name, l in zip(new_df.columns, fit.support_) if l == True]\n",
        "\n",
        "print(f\"Num Features: {fit.n_features_}\")\n",
        "print(f\"Name Features: {new_df.columns}\")\n",
        "print(f\"Masked Features: {fit.support_}\")\n",
        "print(f\"Feature Ranking: {fit.ranking_}\")\n",
        "print(f\"Selected Features: {names}\")"
      ],
      "execution_count": null,
      "outputs": [
        {
          "output_type": "stream",
          "text": [
            "Num Features: 3\n",
            "Name Features: Index(['preg', 'plas', 'pres', 'skin', 'insu', 'mass', 'pedi', 'age', 'class'], dtype='object')\n",
            "Masked Features: [False  True False False False  True  True False]\n",
            "Feature Ranking: [5 1 3 6 4 1 1 2]\n",
            "Selected Features: ['plas', 'mass', 'pedi']\n"
          ],
          "name": "stdout"
        }
      ]
    },
    {
      "cell_type": "code",
      "metadata": {
        "id": "_GbXRdbrqzUg"
      },
      "source": [
        ""
      ],
      "execution_count": null,
      "outputs": []
    },
    {
      "cell_type": "markdown",
      "source": [
        "## Usando Feature Importance"
      ],
      "metadata": {
        "id": "GiGa9LMKFTcs"
      }
    },
    {
      "cell_type": "code",
      "source": [
        ""
      ],
      "metadata": {
        "id": "dBfT8AUfFWEV"
      },
      "execution_count": null,
      "outputs": []
    },
    {
      "cell_type": "code",
      "source": [
        ""
      ],
      "metadata": {
        "id": "VYt6tRBMFWBX"
      },
      "execution_count": null,
      "outputs": []
    },
    {
      "cell_type": "markdown",
      "metadata": {
        "id": "hJRpqNasqNMK"
      },
      "source": [
        "## Usando chi2"
      ]
    },
    {
      "cell_type": "code",
      "metadata": {
        "id": "_4kaBnUYqMxK"
      },
      "source": [
        ""
      ],
      "execution_count": null,
      "outputs": []
    },
    {
      "cell_type": "code",
      "source": [
        ""
      ],
      "metadata": {
        "id": "d08tnqgrFYqP"
      },
      "execution_count": null,
      "outputs": []
    },
    {
      "cell_type": "code",
      "source": [
        ""
      ],
      "metadata": {
        "id": "_frM-5uqFYa8"
      },
      "execution_count": null,
      "outputs": []
    },
    {
      "cell_type": "code",
      "metadata": {
        "colab": {
          "base_uri": "https://localhost:8080/"
        },
        "id": "Eg-ZruSipOTR",
        "outputId": "6936d774-6b6e-4c70-aa44-918b45d04c93"
      },
      "source": [
        "test = SelectKBest(score_func=chi2, k=4)\n",
        "fit = test.fit(X_train, y_train)\n",
        "\n",
        "# Summarize scores\n",
        "np.set_printoptions(precision=3)\n",
        "print(fit.scores_)\n",
        "\n",
        "features = fit.transform(X)"
      ],
      "execution_count": null,
      "outputs": [
        {
          "output_type": "stream",
          "text": [
            "[  77.453 1082.927   20.373   24.007 1197.141  107.766    3.542  194.164]\n"
          ],
          "name": "stdout"
        }
      ]
    },
    {
      "cell_type": "code",
      "metadata": {
        "colab": {
          "base_uri": "https://localhost:8080/",
          "height": 300
        },
        "id": "-CA7KTCNpOOU",
        "outputId": "ac0c44e9-b18a-453e-9ffb-8ea4cab8a35f"
      },
      "source": [
        "new_df.corr()"
      ],
      "execution_count": null,
      "outputs": [
        {
          "output_type": "execute_result",
          "data": {
            "text/html": [
              "<div>\n",
              "<style scoped>\n",
              "    .dataframe tbody tr th:only-of-type {\n",
              "        vertical-align: middle;\n",
              "    }\n",
              "\n",
              "    .dataframe tbody tr th {\n",
              "        vertical-align: top;\n",
              "    }\n",
              "\n",
              "    .dataframe thead th {\n",
              "        text-align: right;\n",
              "    }\n",
              "</style>\n",
              "<table border=\"1\" class=\"dataframe\">\n",
              "  <thead>\n",
              "    <tr style=\"text-align: right;\">\n",
              "      <th></th>\n",
              "      <th>preg</th>\n",
              "      <th>plas</th>\n",
              "      <th>pres</th>\n",
              "      <th>skin</th>\n",
              "      <th>insu</th>\n",
              "      <th>mass</th>\n",
              "      <th>pedi</th>\n",
              "      <th>age</th>\n",
              "    </tr>\n",
              "  </thead>\n",
              "  <tbody>\n",
              "    <tr>\n",
              "      <th>preg</th>\n",
              "      <td>1.000000</td>\n",
              "      <td>0.129459</td>\n",
              "      <td>0.141282</td>\n",
              "      <td>-0.081672</td>\n",
              "      <td>-0.073535</td>\n",
              "      <td>0.017683</td>\n",
              "      <td>-0.033523</td>\n",
              "      <td>0.544341</td>\n",
              "    </tr>\n",
              "    <tr>\n",
              "      <th>plas</th>\n",
              "      <td>0.129459</td>\n",
              "      <td>1.000000</td>\n",
              "      <td>0.152590</td>\n",
              "      <td>0.057328</td>\n",
              "      <td>0.331357</td>\n",
              "      <td>0.221071</td>\n",
              "      <td>0.137337</td>\n",
              "      <td>0.263514</td>\n",
              "    </tr>\n",
              "    <tr>\n",
              "      <th>pres</th>\n",
              "      <td>0.141282</td>\n",
              "      <td>0.152590</td>\n",
              "      <td>1.000000</td>\n",
              "      <td>0.207371</td>\n",
              "      <td>0.088933</td>\n",
              "      <td>0.281805</td>\n",
              "      <td>0.041265</td>\n",
              "      <td>0.239528</td>\n",
              "    </tr>\n",
              "    <tr>\n",
              "      <th>skin</th>\n",
              "      <td>-0.081672</td>\n",
              "      <td>0.057328</td>\n",
              "      <td>0.207371</td>\n",
              "      <td>1.000000</td>\n",
              "      <td>0.436783</td>\n",
              "      <td>0.392573</td>\n",
              "      <td>0.183928</td>\n",
              "      <td>-0.113970</td>\n",
              "    </tr>\n",
              "    <tr>\n",
              "      <th>insu</th>\n",
              "      <td>-0.073535</td>\n",
              "      <td>0.331357</td>\n",
              "      <td>0.088933</td>\n",
              "      <td>0.436783</td>\n",
              "      <td>1.000000</td>\n",
              "      <td>0.197859</td>\n",
              "      <td>0.185071</td>\n",
              "      <td>-0.042163</td>\n",
              "    </tr>\n",
              "    <tr>\n",
              "      <th>mass</th>\n",
              "      <td>0.017683</td>\n",
              "      <td>0.221071</td>\n",
              "      <td>0.281805</td>\n",
              "      <td>0.392573</td>\n",
              "      <td>0.197859</td>\n",
              "      <td>1.000000</td>\n",
              "      <td>0.140647</td>\n",
              "      <td>0.036242</td>\n",
              "    </tr>\n",
              "    <tr>\n",
              "      <th>pedi</th>\n",
              "      <td>-0.033523</td>\n",
              "      <td>0.137337</td>\n",
              "      <td>0.041265</td>\n",
              "      <td>0.183928</td>\n",
              "      <td>0.185071</td>\n",
              "      <td>0.140647</td>\n",
              "      <td>1.000000</td>\n",
              "      <td>0.033561</td>\n",
              "    </tr>\n",
              "    <tr>\n",
              "      <th>age</th>\n",
              "      <td>0.544341</td>\n",
              "      <td>0.263514</td>\n",
              "      <td>0.239528</td>\n",
              "      <td>-0.113970</td>\n",
              "      <td>-0.042163</td>\n",
              "      <td>0.036242</td>\n",
              "      <td>0.033561</td>\n",
              "      <td>1.000000</td>\n",
              "    </tr>\n",
              "  </tbody>\n",
              "</table>\n",
              "</div>"
            ],
            "text/plain": [
              "          preg      plas      pres  ...      mass      pedi       age\n",
              "preg  1.000000  0.129459  0.141282  ...  0.017683 -0.033523  0.544341\n",
              "plas  0.129459  1.000000  0.152590  ...  0.221071  0.137337  0.263514\n",
              "pres  0.141282  0.152590  1.000000  ...  0.281805  0.041265  0.239528\n",
              "skin -0.081672  0.057328  0.207371  ...  0.392573  0.183928 -0.113970\n",
              "insu -0.073535  0.331357  0.088933  ...  0.197859  0.185071 -0.042163\n",
              "mass  0.017683  0.221071  0.281805  ...  1.000000  0.140647  0.036242\n",
              "pedi -0.033523  0.137337  0.041265  ...  0.140647  1.000000  0.033561\n",
              "age   0.544341  0.263514  0.239528  ...  0.036242  0.033561  1.000000\n",
              "\n",
              "[8 rows x 8 columns]"
            ]
          },
          "metadata": {},
          "execution_count": 25
        }
      ]
    },
    {
      "cell_type": "code",
      "metadata": {
        "id": "_nmR2iD1pOLA"
      },
      "source": [
        ""
      ],
      "execution_count": null,
      "outputs": []
    },
    {
      "cell_type": "code",
      "metadata": {
        "id": "o-MCMf9spOJi"
      },
      "source": [
        ""
      ],
      "execution_count": null,
      "outputs": []
    },
    {
      "cell_type": "code",
      "metadata": {
        "id": "sC850cKWpOGH"
      },
      "source": [
        ""
      ],
      "execution_count": null,
      "outputs": []
    },
    {
      "cell_type": "code",
      "metadata": {
        "id": "-q4IPgMHpOES"
      },
      "source": [
        ""
      ],
      "execution_count": null,
      "outputs": []
    },
    {
      "cell_type": "code",
      "metadata": {
        "id": "vX7AxWS0pOAb"
      },
      "source": [
        ""
      ],
      "execution_count": null,
      "outputs": []
    },
    {
      "cell_type": "code",
      "metadata": {
        "id": "vBAipA0upN-s"
      },
      "source": [
        ""
      ],
      "execution_count": null,
      "outputs": []
    }
  ]
}